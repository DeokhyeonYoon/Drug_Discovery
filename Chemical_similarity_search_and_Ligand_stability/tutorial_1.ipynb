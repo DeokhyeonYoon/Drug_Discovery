{
 "cells": [
  {
   "cell_type": "markdown",
   "metadata": {},
   "source": [
    "# Compound data acquisition from Chembl"
   ]
  },
  {
   "cell_type": "code",
   "execution_count": 56,
   "metadata": {},
   "outputs": [],
   "source": [
    "import math\n",
    "from pathlib import Path\n",
    "from zipfile import ZipFile\n",
    "from tempfile import TemporaryDirectory\n",
    "\n",
    "import numpy as np\n",
    "import pandas as pd\n",
    "from rdkit.Chem import PandasTools\n",
    "from chembl_webresource_client.new_client import new_client\n",
    "from tqdm.auto import tqdm\n",
    "# or from tqdm.notebook import tqdm\n",
    "# <tqdm> tqdm shows preprocessing time in real time\n",
    "\n",
    "# <PandasTools> PandasTools enables using RDKit molecules as columns of a Pandas DataFrame"
   ]
  },
  {
   "cell_type": "code",
   "execution_count": 57,
   "metadata": {},
   "outputs": [],
   "source": [
    "targets_api = new_client.target\n",
    "compounds_api = new_client.molecule\n",
    "bioactivities_api = new_client.activity"
   ]
  },
  {
   "cell_type": "code",
   "execution_count": 58,
   "metadata": {},
   "outputs": [
    {
     "data": {
      "text/plain": [
       "chembl_webresource_client.query_set.QuerySet"
      ]
     },
     "execution_count": 58,
     "metadata": {},
     "output_type": "execute_result"
    }
   ],
   "source": [
    "type(targets_api)"
   ]
  },
  {
   "cell_type": "code",
   "execution_count": 59,
   "metadata": {},
   "outputs": [],
   "source": [
    "# Target Protein --> EGFP kinase: P00533\n",
    "\n",
    "uniprot_id = \"P00533\""
   ]
  },
  {
   "cell_type": "code",
   "execution_count": 60,
   "metadata": {},
   "outputs": [
    {
     "name": "stdout",
     "output_type": "stream",
     "text": [
      "The type of the targets is \"<class 'chembl_webresource_client.query_set.QuerySet'>\"\n"
     ]
    }
   ],
   "source": [
    "#### Get target information from ChEMBL but restrict it to specified values only\n",
    "targets = targets_api.get(target_components__accession=uniprot_id).only(\n",
    "    \"target_chembl_id\", \"organism\", \"pref_name\", \"target_type\"\n",
    ")\n",
    "print(f'The type of the targets is \"{type(targets)}\"')"
   ]
  },
  {
   "cell_type": "code",
   "execution_count": 61,
   "metadata": {},
   "outputs": [
    {
     "data": {
      "text/html": [
       "<div>\n",
       "<style scoped>\n",
       "    .dataframe tbody tr th:only-of-type {\n",
       "        vertical-align: middle;\n",
       "    }\n",
       "\n",
       "    .dataframe tbody tr th {\n",
       "        vertical-align: top;\n",
       "    }\n",
       "\n",
       "    .dataframe thead th {\n",
       "        text-align: right;\n",
       "    }\n",
       "</style>\n",
       "<table border=\"1\" class=\"dataframe\">\n",
       "  <thead>\n",
       "    <tr style=\"text-align: right;\">\n",
       "      <th></th>\n",
       "      <th>organism</th>\n",
       "      <th>pref_name</th>\n",
       "      <th>target_chembl_id</th>\n",
       "      <th>target_type</th>\n",
       "    </tr>\n",
       "  </thead>\n",
       "  <tbody>\n",
       "    <tr>\n",
       "      <th>0</th>\n",
       "      <td>Homo sapiens</td>\n",
       "      <td>Epidermal growth factor receptor erbB1</td>\n",
       "      <td>CHEMBL203</td>\n",
       "      <td>SINGLE PROTEIN</td>\n",
       "    </tr>\n",
       "    <tr>\n",
       "      <th>1</th>\n",
       "      <td>Homo sapiens</td>\n",
       "      <td>Epidermal growth factor receptor erbB1</td>\n",
       "      <td>CHEMBL203</td>\n",
       "      <td>SINGLE PROTEIN</td>\n",
       "    </tr>\n",
       "    <tr>\n",
       "      <th>2</th>\n",
       "      <td>Homo sapiens</td>\n",
       "      <td>Epidermal growth factor receptor and ErbB2 (HE...</td>\n",
       "      <td>CHEMBL2111431</td>\n",
       "      <td>PROTEIN FAMILY</td>\n",
       "    </tr>\n",
       "    <tr>\n",
       "      <th>3</th>\n",
       "      <td>Homo sapiens</td>\n",
       "      <td>Epidermal growth factor receptor</td>\n",
       "      <td>CHEMBL2363049</td>\n",
       "      <td>PROTEIN FAMILY</td>\n",
       "    </tr>\n",
       "    <tr>\n",
       "      <th>4</th>\n",
       "      <td>Homo sapiens</td>\n",
       "      <td>MER intracellular domain/EGFR extracellular do...</td>\n",
       "      <td>CHEMBL3137284</td>\n",
       "      <td>CHIMERIC PROTEIN</td>\n",
       "    </tr>\n",
       "    <tr>\n",
       "      <th>5</th>\n",
       "      <td>Homo sapiens</td>\n",
       "      <td>Protein cereblon/Epidermal growth factor receptor</td>\n",
       "      <td>CHEMBL4523680</td>\n",
       "      <td>PROTEIN-PROTEIN INTERACTION</td>\n",
       "    </tr>\n",
       "    <tr>\n",
       "      <th>6</th>\n",
       "      <td>Homo sapiens</td>\n",
       "      <td>EGFR/PPP1CA</td>\n",
       "      <td>CHEMBL4523747</td>\n",
       "      <td>PROTEIN-PROTEIN INTERACTION</td>\n",
       "    </tr>\n",
       "    <tr>\n",
       "      <th>7</th>\n",
       "      <td>Homo sapiens</td>\n",
       "      <td>VHL/EGFR</td>\n",
       "      <td>CHEMBL4523998</td>\n",
       "      <td>PROTEIN-PROTEIN INTERACTION</td>\n",
       "    </tr>\n",
       "    <tr>\n",
       "      <th>8</th>\n",
       "      <td>Homo sapiens</td>\n",
       "      <td>Baculoviral IAP repeat-containing protein 2/Ep...</td>\n",
       "      <td>CHEMBL4802031</td>\n",
       "      <td>PROTEIN-PROTEIN INTERACTION</td>\n",
       "    </tr>\n",
       "  </tbody>\n",
       "</table>\n",
       "</div>"
      ],
      "text/plain": [
       "       organism                                          pref_name  \\\n",
       "0  Homo sapiens             Epidermal growth factor receptor erbB1   \n",
       "1  Homo sapiens             Epidermal growth factor receptor erbB1   \n",
       "2  Homo sapiens  Epidermal growth factor receptor and ErbB2 (HE...   \n",
       "3  Homo sapiens                   Epidermal growth factor receptor   \n",
       "4  Homo sapiens  MER intracellular domain/EGFR extracellular do...   \n",
       "5  Homo sapiens  Protein cereblon/Epidermal growth factor receptor   \n",
       "6  Homo sapiens                                        EGFR/PPP1CA   \n",
       "7  Homo sapiens                                           VHL/EGFR   \n",
       "8  Homo sapiens  Baculoviral IAP repeat-containing protein 2/Ep...   \n",
       "\n",
       "  target_chembl_id                  target_type  \n",
       "0        CHEMBL203               SINGLE PROTEIN  \n",
       "1        CHEMBL203               SINGLE PROTEIN  \n",
       "2    CHEMBL2111431               PROTEIN FAMILY  \n",
       "3    CHEMBL2363049               PROTEIN FAMILY  \n",
       "4    CHEMBL3137284             CHIMERIC PROTEIN  \n",
       "5    CHEMBL4523680  PROTEIN-PROTEIN INTERACTION  \n",
       "6    CHEMBL4523747  PROTEIN-PROTEIN INTERACTION  \n",
       "7    CHEMBL4523998  PROTEIN-PROTEIN INTERACTION  \n",
       "8    CHEMBL4802031  PROTEIN-PROTEIN INTERACTION  "
      ]
     },
     "execution_count": 61,
     "metadata": {},
     "output_type": "execute_result"
    }
   ],
   "source": [
    "targets = pd.DataFrame.from_records(targets)\n",
    "targets"
   ]
  },
  {
   "cell_type": "code",
   "execution_count": 62,
   "metadata": {},
   "outputs": [
    {
     "data": {
      "text/plain": [
       "organism                                      Homo sapiens\n",
       "pref_name           Epidermal growth factor receptor erbB1\n",
       "target_chembl_id                                 CHEMBL203\n",
       "target_type                                 SINGLE PROTEIN\n",
       "Name: 0, dtype: object"
      ]
     },
     "execution_count": 62,
     "metadata": {},
     "output_type": "execute_result"
    }
   ],
   "source": [
    "# Select target (target Chembl id)\n",
    "\n",
    "target = targets.iloc[0]\n",
    "target"
   ]
  },
  {
   "cell_type": "code",
   "execution_count": 63,
   "metadata": {},
   "outputs": [
    {
     "name": "stdout",
     "output_type": "stream",
     "text": [
      "The target ChEMBL ID is CHEMBL203\n"
     ]
    }
   ],
   "source": [
    "chembl_id = target.target_chembl_id\n",
    "print(f\"The target ChEMBL ID is {chembl_id}\")"
   ]
  },
  {
   "cell_type": "code",
   "execution_count": 64,
   "metadata": {},
   "outputs": [
    {
     "name": "stdout",
     "output_type": "stream",
     "text": [
      "Length and type of bioactivities object: 10420, <class 'chembl_webresource_client.query_set.QuerySet'>\n"
     ]
    }
   ],
   "source": [
    "#### Fetch bioactivity data for the target from ChEMBL\n",
    "bioactivities = bioactivities_api.filter(\n",
    "    target_chembl_id=chembl_id, type=\"IC50\", relation=\"=\", assay_type=\"B\"\n",
    ").only(\n",
    "    \"activity_id\",\n",
    "    \"assay_chembl_id\",\n",
    "    \"assay_description\",\n",
    "    \"assay_type\",\n",
    "    \"molecule_chembl_id\",\n",
    "    \"type\",\n",
    "    \"standard_units\",\n",
    "    \"relation\",\n",
    "    \"standard_value\",\n",
    "    \"target_chembl_id\",\n",
    "    \"target_organism\",\n",
    ")\n",
    "\n",
    "print(f\"Length and type of bioactivities object: {len(bioactivities)}, {type(bioactivities)}\")"
   ]
  },
  {
   "cell_type": "code",
   "execution_count": 65,
   "metadata": {},
   "outputs": [
    {
     "name": "stdout",
     "output_type": "stream",
     "text": [
      "Length and type of first element: 13, <class 'dict'>\n"
     ]
    },
    {
     "data": {
      "text/plain": [
       "{'activity_id': 32260,\n",
       " 'assay_chembl_id': 'CHEMBL674637',\n",
       " 'assay_description': 'Inhibitory activity towards tyrosine phosphorylation for the epidermal growth factor-receptor kinase',\n",
       " 'assay_type': 'B',\n",
       " 'molecule_chembl_id': 'CHEMBL68920',\n",
       " 'relation': '=',\n",
       " 'standard_units': 'nM',\n",
       " 'standard_value': '41.0',\n",
       " 'target_chembl_id': 'CHEMBL203',\n",
       " 'target_organism': 'Homo sapiens',\n",
       " 'type': 'IC50',\n",
       " 'units': 'uM',\n",
       " 'value': '0.041'}"
      ]
     },
     "execution_count": 65,
     "metadata": {},
     "output_type": "execute_result"
    }
   ],
   "source": [
    "print(f\"Length and type of first element: {len(bioactivities[0])}, {type(bioactivities[0])}\")\n",
    "bioactivities[0]"
   ]
  },
  {
   "cell_type": "code",
   "execution_count": 66,
   "metadata": {},
   "outputs": [
    {
     "name": "stdout",
     "output_type": "stream",
     "text": [
      "DataFrame shape: (10420, 13)\n"
     ]
    }
   ],
   "source": [
    "# This step should not take more than 2 minutes\n",
    "bioactivities_df = pd.DataFrame.from_dict(bioactivities)\n",
    "print(f\"DataFrame shape: {bioactivities_df.shape}\")"
   ]
  },
  {
   "cell_type": "code",
   "execution_count": 67,
   "metadata": {},
   "outputs": [],
   "source": [
    "#### Preprocess and filter bioactivity data\n",
    "#### Convert standard_value’s datatype from object to float\n",
    "#### Delete entries with missing values\n",
    "#### Keep only entries with standard_unit == nM\n",
    "#### Delete duplicate molecules\n",
    "#### Reset DataFrame index\n",
    "#### Rename columns"
   ]
  },
  {
   "cell_type": "code",
   "execution_count": 68,
   "metadata": {},
   "outputs": [
    {
     "data": {
      "text/plain": [
       "array(['uM', 'nM', 'pM', 'M', \"10'3 uM\", \"10'1 ug/ml\", 'ug ml-1',\n",
       "       \"10'-1microM\", \"10'1 uM\", \"10'-1 ug/ml\", \"10'-2 ug/ml\", \"10'2 uM\",\n",
       "       \"10'-3 ug/ml\", \"10'-2microM\", '/uM', \"10'-6g/ml\", 'mM', 'umol/L',\n",
       "       'nmol/L', \"10'-10M\", \"10'-7M\", 'nmol', '10^-8M', 'µM'],\n",
       "      dtype=object)"
      ]
     },
     "execution_count": 68,
     "metadata": {},
     "output_type": "execute_result"
    }
   ],
   "source": [
    "bioactivities_df[\"units\"].unique()\n",
    "\n",
    "# When you want to remove duplicate values from a specific column and get only unique values, use unique() and drop_duplicates()\n",
    "# df[\"column's name\"].unique() --> Return unique values in array type\n",
    "# df[\"column's name\"].drop_duplicates() --> Return unique values in Series type\n",
    "# When you want to return to DataFrame, use df.drop_duplicate(subset=\"column's name\")"
   ]
  },
  {
   "cell_type": "code",
   "execution_count": 69,
   "metadata": {},
   "outputs": [
    {
     "data": {
      "text/html": [
       "<div>\n",
       "<style scoped>\n",
       "    .dataframe tbody tr th:only-of-type {\n",
       "        vertical-align: middle;\n",
       "    }\n",
       "\n",
       "    .dataframe tbody tr th {\n",
       "        vertical-align: top;\n",
       "    }\n",
       "\n",
       "    .dataframe thead th {\n",
       "        text-align: right;\n",
       "    }\n",
       "</style>\n",
       "<table border=\"1\" class=\"dataframe\">\n",
       "  <thead>\n",
       "    <tr style=\"text-align: right;\">\n",
       "      <th></th>\n",
       "      <th>activity_id</th>\n",
       "      <th>assay_chembl_id</th>\n",
       "      <th>assay_description</th>\n",
       "      <th>assay_type</th>\n",
       "      <th>molecule_chembl_id</th>\n",
       "      <th>relation</th>\n",
       "      <th>standard_units</th>\n",
       "      <th>standard_value</th>\n",
       "      <th>target_chembl_id</th>\n",
       "      <th>target_organism</th>\n",
       "      <th>type</th>\n",
       "    </tr>\n",
       "  </thead>\n",
       "  <tbody>\n",
       "    <tr>\n",
       "      <th>0</th>\n",
       "      <td>32260</td>\n",
       "      <td>CHEMBL674637</td>\n",
       "      <td>Inhibitory activity towards tyrosine phosphory...</td>\n",
       "      <td>B</td>\n",
       "      <td>CHEMBL68920</td>\n",
       "      <td>=</td>\n",
       "      <td>nM</td>\n",
       "      <td>41.0</td>\n",
       "      <td>CHEMBL203</td>\n",
       "      <td>Homo sapiens</td>\n",
       "      <td>IC50</td>\n",
       "    </tr>\n",
       "    <tr>\n",
       "      <th>1</th>\n",
       "      <td>32267</td>\n",
       "      <td>CHEMBL674637</td>\n",
       "      <td>Inhibitory activity towards tyrosine phosphory...</td>\n",
       "      <td>B</td>\n",
       "      <td>CHEMBL69960</td>\n",
       "      <td>=</td>\n",
       "      <td>nM</td>\n",
       "      <td>170.0</td>\n",
       "      <td>CHEMBL203</td>\n",
       "      <td>Homo sapiens</td>\n",
       "      <td>IC50</td>\n",
       "    </tr>\n",
       "    <tr>\n",
       "      <th>2</th>\n",
       "      <td>32680</td>\n",
       "      <td>CHEMBL677833</td>\n",
       "      <td>In vitro inhibition of Epidermal growth factor...</td>\n",
       "      <td>B</td>\n",
       "      <td>CHEMBL137635</td>\n",
       "      <td>=</td>\n",
       "      <td>nM</td>\n",
       "      <td>9300.0</td>\n",
       "      <td>CHEMBL203</td>\n",
       "      <td>Homo sapiens</td>\n",
       "      <td>IC50</td>\n",
       "    </tr>\n",
       "    <tr>\n",
       "      <th>3</th>\n",
       "      <td>32770</td>\n",
       "      <td>CHEMBL674643</td>\n",
       "      <td>Inhibitory concentration of EGF dependent auto...</td>\n",
       "      <td>B</td>\n",
       "      <td>CHEMBL306988</td>\n",
       "      <td>=</td>\n",
       "      <td>nM</td>\n",
       "      <td>500000.0</td>\n",
       "      <td>CHEMBL203</td>\n",
       "      <td>Homo sapiens</td>\n",
       "      <td>IC50</td>\n",
       "    </tr>\n",
       "    <tr>\n",
       "      <th>4</th>\n",
       "      <td>32772</td>\n",
       "      <td>CHEMBL674643</td>\n",
       "      <td>Inhibitory concentration of EGF dependent auto...</td>\n",
       "      <td>B</td>\n",
       "      <td>CHEMBL66879</td>\n",
       "      <td>=</td>\n",
       "      <td>nM</td>\n",
       "      <td>3000000.0</td>\n",
       "      <td>CHEMBL203</td>\n",
       "      <td>Homo sapiens</td>\n",
       "      <td>IC50</td>\n",
       "    </tr>\n",
       "  </tbody>\n",
       "</table>\n",
       "</div>"
      ],
      "text/plain": [
       "   activity_id assay_chembl_id  \\\n",
       "0        32260    CHEMBL674637   \n",
       "1        32267    CHEMBL674637   \n",
       "2        32680    CHEMBL677833   \n",
       "3        32770    CHEMBL674643   \n",
       "4        32772    CHEMBL674643   \n",
       "\n",
       "                                   assay_description assay_type  \\\n",
       "0  Inhibitory activity towards tyrosine phosphory...          B   \n",
       "1  Inhibitory activity towards tyrosine phosphory...          B   \n",
       "2  In vitro inhibition of Epidermal growth factor...          B   \n",
       "3  Inhibitory concentration of EGF dependent auto...          B   \n",
       "4  Inhibitory concentration of EGF dependent auto...          B   \n",
       "\n",
       "  molecule_chembl_id relation standard_units standard_value target_chembl_id  \\\n",
       "0        CHEMBL68920        =             nM           41.0        CHEMBL203   \n",
       "1        CHEMBL69960        =             nM          170.0        CHEMBL203   \n",
       "2       CHEMBL137635        =             nM         9300.0        CHEMBL203   \n",
       "3       CHEMBL306988        =             nM       500000.0        CHEMBL203   \n",
       "4        CHEMBL66879        =             nM      3000000.0        CHEMBL203   \n",
       "\n",
       "  target_organism  type  \n",
       "0    Homo sapiens  IC50  \n",
       "1    Homo sapiens  IC50  \n",
       "2    Homo sapiens  IC50  \n",
       "3    Homo sapiens  IC50  \n",
       "4    Homo sapiens  IC50  "
      ]
     },
     "execution_count": 69,
     "metadata": {},
     "output_type": "execute_result"
    }
   ],
   "source": [
    "bioactivities_df.drop([\"units\", \"value\"], axis=1, inplace=True)\n",
    "bioactivities_df.head()"
   ]
  },
  {
   "cell_type": "code",
   "execution_count": 70,
   "metadata": {},
   "outputs": [
    {
     "data": {
      "text/plain": [
       "activity_id            int64\n",
       "assay_chembl_id       object\n",
       "assay_description     object\n",
       "assay_type            object\n",
       "molecule_chembl_id    object\n",
       "relation              object\n",
       "standard_units        object\n",
       "standard_value        object\n",
       "target_chembl_id      object\n",
       "target_organism       object\n",
       "type                  object\n",
       "dtype: object"
      ]
     },
     "execution_count": 70,
     "metadata": {},
     "output_type": "execute_result"
    }
   ],
   "source": [
    "bioactivities_df.dtypes"
   ]
  },
  {
   "cell_type": "code",
   "execution_count": 71,
   "metadata": {},
   "outputs": [
    {
     "data": {
      "text/plain": [
       "activity_id             int64\n",
       "assay_chembl_id        object\n",
       "assay_description      object\n",
       "assay_type             object\n",
       "molecule_chembl_id     object\n",
       "relation               object\n",
       "standard_units         object\n",
       "standard_value        float64\n",
       "target_chembl_id       object\n",
       "target_organism        object\n",
       "type                   object\n",
       "dtype: object"
      ]
     },
     "execution_count": 71,
     "metadata": {},
     "output_type": "execute_result"
    }
   ],
   "source": [
    "# Convert datatype of “standard_value” from “object” to “float” for Caculation\n",
    "bioactivities_df = bioactivities_df.astype({\"standard_value\": \"float64\"})\n",
    "bioactivities_df.dtypes"
   ]
  },
  {
   "cell_type": "code",
   "execution_count": 72,
   "metadata": {},
   "outputs": [
    {
     "name": "stdout",
     "output_type": "stream",
     "text": [
      "DataFrame shape: (10419, 11)\n"
     ]
    }
   ],
   "source": [
    "# Delete entries with missing values\n",
    "bioactivities_df.dropna(axis=0, how=\"any\", inplace=True)\n",
    "print(f\"DataFrame shape: {bioactivities_df.shape}\")\n",
    "\n",
    "# df.dropna() --> Wenn there is \"NaN\" value in DataFrame, this function delete row or column including \"NaN\" value\n",
    "# Parameter in dropna() --> how = \"any\"/\"all\"\n",
    "# \"any\" --> when there is at least only 1 \"NaN\" value, drop\n",
    "# \"all\" --> wenn all value is \"NaN\" value, drop"
   ]
  },
  {
   "cell_type": "code",
   "execution_count": 73,
   "metadata": {},
   "outputs": [
    {
     "name": "stdout",
     "output_type": "stream",
     "text": [
      "Units in downloaded data: ['nM' 'ug.mL-1' '/uM' 'µM']\n",
      "Number of non-nM entries:    70\n"
     ]
    }
   ],
   "source": [
    "#### Keep only entries with “standard_unit == nM”\n",
    "print(f\"Units in downloaded data: {bioactivities_df['standard_units'].unique()}\")\n",
    "print(\n",
    "    f\"Number of non-nM entries:\\\n",
    "    {bioactivities_df[bioactivities_df['standard_units'] != 'nM'].shape[0]}\"\n",
    ")"
   ]
  },
  {
   "cell_type": "code",
   "execution_count": 74,
   "metadata": {},
   "outputs": [
    {
     "name": "stdout",
     "output_type": "stream",
     "text": [
      "Units after filtering: ['nM']\n"
     ]
    }
   ],
   "source": [
    "bioactivities_df = bioactivities_df[bioactivities_df[\"standard_units\"] == \"nM\"]\n",
    "print(f\"Units after filtering: {bioactivities_df['standard_units'].unique()}\")"
   ]
  },
  {
   "cell_type": "code",
   "execution_count": 75,
   "metadata": {},
   "outputs": [
    {
     "name": "stdout",
     "output_type": "stream",
     "text": [
      "DataFrame shape: (10349, 11)\n"
     ]
    }
   ],
   "source": [
    "print(f\"DataFrame shape: {bioactivities_df.shape}\")"
   ]
  },
  {
   "cell_type": "code",
   "execution_count": 76,
   "metadata": {},
   "outputs": [
    {
     "name": "stdout",
     "output_type": "stream",
     "text": [
      "DataFrame shape: (6823, 11)\n"
     ]
    }
   ],
   "source": [
    "####  Delete duplicate molecules\n",
    "bioactivities_df.drop_duplicates(\"molecule_chembl_id\", keep=\"first\", inplace=True)\n",
    "print(f\"DataFrame shape: {bioactivities_df.shape}\")\n",
    "\n",
    "# drop_duplicates's Parameter\n",
    "# keep --> first/last/False\n",
    "# first --> drop dulplicates except for the first occurrence\n",
    "# last --> drop duplicates except for the last occurence\n",
    "# False --> drop all duplicates"
   ]
  },
  {
   "cell_type": "code",
   "execution_count": 77,
   "metadata": {},
   "outputs": [
    {
     "data": {
      "text/html": [
       "<div>\n",
       "<style scoped>\n",
       "    .dataframe tbody tr th:only-of-type {\n",
       "        vertical-align: middle;\n",
       "    }\n",
       "\n",
       "    .dataframe tbody tr th {\n",
       "        vertical-align: top;\n",
       "    }\n",
       "\n",
       "    .dataframe thead th {\n",
       "        text-align: right;\n",
       "    }\n",
       "</style>\n",
       "<table border=\"1\" class=\"dataframe\">\n",
       "  <thead>\n",
       "    <tr style=\"text-align: right;\">\n",
       "      <th></th>\n",
       "      <th>activity_id</th>\n",
       "      <th>assay_chembl_id</th>\n",
       "      <th>assay_description</th>\n",
       "      <th>assay_type</th>\n",
       "      <th>molecule_chembl_id</th>\n",
       "      <th>relation</th>\n",
       "      <th>standard_units</th>\n",
       "      <th>standard_value</th>\n",
       "      <th>target_chembl_id</th>\n",
       "      <th>target_organism</th>\n",
       "      <th>type</th>\n",
       "    </tr>\n",
       "  </thead>\n",
       "  <tbody>\n",
       "    <tr>\n",
       "      <th>0</th>\n",
       "      <td>32260</td>\n",
       "      <td>CHEMBL674637</td>\n",
       "      <td>Inhibitory activity towards tyrosine phosphory...</td>\n",
       "      <td>B</td>\n",
       "      <td>CHEMBL68920</td>\n",
       "      <td>=</td>\n",
       "      <td>nM</td>\n",
       "      <td>41.0</td>\n",
       "      <td>CHEMBL203</td>\n",
       "      <td>Homo sapiens</td>\n",
       "      <td>IC50</td>\n",
       "    </tr>\n",
       "    <tr>\n",
       "      <th>1</th>\n",
       "      <td>32267</td>\n",
       "      <td>CHEMBL674637</td>\n",
       "      <td>Inhibitory activity towards tyrosine phosphory...</td>\n",
       "      <td>B</td>\n",
       "      <td>CHEMBL69960</td>\n",
       "      <td>=</td>\n",
       "      <td>nM</td>\n",
       "      <td>170.0</td>\n",
       "      <td>CHEMBL203</td>\n",
       "      <td>Homo sapiens</td>\n",
       "      <td>IC50</td>\n",
       "    </tr>\n",
       "    <tr>\n",
       "      <th>2</th>\n",
       "      <td>32680</td>\n",
       "      <td>CHEMBL677833</td>\n",
       "      <td>In vitro inhibition of Epidermal growth factor...</td>\n",
       "      <td>B</td>\n",
       "      <td>CHEMBL137635</td>\n",
       "      <td>=</td>\n",
       "      <td>nM</td>\n",
       "      <td>9300.0</td>\n",
       "      <td>CHEMBL203</td>\n",
       "      <td>Homo sapiens</td>\n",
       "      <td>IC50</td>\n",
       "    </tr>\n",
       "    <tr>\n",
       "      <th>3</th>\n",
       "      <td>32770</td>\n",
       "      <td>CHEMBL674643</td>\n",
       "      <td>Inhibitory concentration of EGF dependent auto...</td>\n",
       "      <td>B</td>\n",
       "      <td>CHEMBL306988</td>\n",
       "      <td>=</td>\n",
       "      <td>nM</td>\n",
       "      <td>500000.0</td>\n",
       "      <td>CHEMBL203</td>\n",
       "      <td>Homo sapiens</td>\n",
       "      <td>IC50</td>\n",
       "    </tr>\n",
       "    <tr>\n",
       "      <th>4</th>\n",
       "      <td>32772</td>\n",
       "      <td>CHEMBL674643</td>\n",
       "      <td>Inhibitory concentration of EGF dependent auto...</td>\n",
       "      <td>B</td>\n",
       "      <td>CHEMBL66879</td>\n",
       "      <td>=</td>\n",
       "      <td>nM</td>\n",
       "      <td>3000000.0</td>\n",
       "      <td>CHEMBL203</td>\n",
       "      <td>Homo sapiens</td>\n",
       "      <td>IC50</td>\n",
       "    </tr>\n",
       "  </tbody>\n",
       "</table>\n",
       "</div>"
      ],
      "text/plain": [
       "   activity_id assay_chembl_id  \\\n",
       "0        32260    CHEMBL674637   \n",
       "1        32267    CHEMBL674637   \n",
       "2        32680    CHEMBL677833   \n",
       "3        32770    CHEMBL674643   \n",
       "4        32772    CHEMBL674643   \n",
       "\n",
       "                                   assay_description assay_type  \\\n",
       "0  Inhibitory activity towards tyrosine phosphory...          B   \n",
       "1  Inhibitory activity towards tyrosine phosphory...          B   \n",
       "2  In vitro inhibition of Epidermal growth factor...          B   \n",
       "3  Inhibitory concentration of EGF dependent auto...          B   \n",
       "4  Inhibitory concentration of EGF dependent auto...          B   \n",
       "\n",
       "  molecule_chembl_id relation standard_units  standard_value target_chembl_id  \\\n",
       "0        CHEMBL68920        =             nM            41.0        CHEMBL203   \n",
       "1        CHEMBL69960        =             nM           170.0        CHEMBL203   \n",
       "2       CHEMBL137635        =             nM          9300.0        CHEMBL203   \n",
       "3       CHEMBL306988        =             nM        500000.0        CHEMBL203   \n",
       "4        CHEMBL66879        =             nM       3000000.0        CHEMBL203   \n",
       "\n",
       "  target_organism  type  \n",
       "0    Homo sapiens  IC50  \n",
       "1    Homo sapiens  IC50  \n",
       "2    Homo sapiens  IC50  \n",
       "3    Homo sapiens  IC50  \n",
       "4    Homo sapiens  IC50  "
      ]
     },
     "execution_count": 77,
     "metadata": {},
     "output_type": "execute_result"
    }
   ],
   "source": [
    "#### Reset “DataFrame” index\n",
    "bioactivities_df.reset_index(drop=True, inplace=True)\n",
    "bioactivities_df.head()\n",
    "\n",
    "# df.reset_index() --> Reset index (level=, drop=, inplace=, col_level=, col_fill=\"\")"
   ]
  },
  {
   "cell_type": "code",
   "execution_count": 78,
   "metadata": {},
   "outputs": [
    {
     "data": {
      "text/html": [
       "<div>\n",
       "<style scoped>\n",
       "    .dataframe tbody tr th:only-of-type {\n",
       "        vertical-align: middle;\n",
       "    }\n",
       "\n",
       "    .dataframe tbody tr th {\n",
       "        vertical-align: top;\n",
       "    }\n",
       "\n",
       "    .dataframe thead th {\n",
       "        text-align: right;\n",
       "    }\n",
       "</style>\n",
       "<table border=\"1\" class=\"dataframe\">\n",
       "  <thead>\n",
       "    <tr style=\"text-align: right;\">\n",
       "      <th></th>\n",
       "      <th>activity_id</th>\n",
       "      <th>assay_chembl_id</th>\n",
       "      <th>assay_description</th>\n",
       "      <th>assay_type</th>\n",
       "      <th>molecule_chembl_id</th>\n",
       "      <th>relation</th>\n",
       "      <th>units</th>\n",
       "      <th>IC50</th>\n",
       "      <th>target_chembl_id</th>\n",
       "      <th>target_organism</th>\n",
       "      <th>type</th>\n",
       "    </tr>\n",
       "  </thead>\n",
       "  <tbody>\n",
       "    <tr>\n",
       "      <th>0</th>\n",
       "      <td>32260</td>\n",
       "      <td>CHEMBL674637</td>\n",
       "      <td>Inhibitory activity towards tyrosine phosphory...</td>\n",
       "      <td>B</td>\n",
       "      <td>CHEMBL68920</td>\n",
       "      <td>=</td>\n",
       "      <td>nM</td>\n",
       "      <td>41.0</td>\n",
       "      <td>CHEMBL203</td>\n",
       "      <td>Homo sapiens</td>\n",
       "      <td>IC50</td>\n",
       "    </tr>\n",
       "    <tr>\n",
       "      <th>1</th>\n",
       "      <td>32267</td>\n",
       "      <td>CHEMBL674637</td>\n",
       "      <td>Inhibitory activity towards tyrosine phosphory...</td>\n",
       "      <td>B</td>\n",
       "      <td>CHEMBL69960</td>\n",
       "      <td>=</td>\n",
       "      <td>nM</td>\n",
       "      <td>170.0</td>\n",
       "      <td>CHEMBL203</td>\n",
       "      <td>Homo sapiens</td>\n",
       "      <td>IC50</td>\n",
       "    </tr>\n",
       "    <tr>\n",
       "      <th>2</th>\n",
       "      <td>32680</td>\n",
       "      <td>CHEMBL677833</td>\n",
       "      <td>In vitro inhibition of Epidermal growth factor...</td>\n",
       "      <td>B</td>\n",
       "      <td>CHEMBL137635</td>\n",
       "      <td>=</td>\n",
       "      <td>nM</td>\n",
       "      <td>9300.0</td>\n",
       "      <td>CHEMBL203</td>\n",
       "      <td>Homo sapiens</td>\n",
       "      <td>IC50</td>\n",
       "    </tr>\n",
       "    <tr>\n",
       "      <th>3</th>\n",
       "      <td>32770</td>\n",
       "      <td>CHEMBL674643</td>\n",
       "      <td>Inhibitory concentration of EGF dependent auto...</td>\n",
       "      <td>B</td>\n",
       "      <td>CHEMBL306988</td>\n",
       "      <td>=</td>\n",
       "      <td>nM</td>\n",
       "      <td>500000.0</td>\n",
       "      <td>CHEMBL203</td>\n",
       "      <td>Homo sapiens</td>\n",
       "      <td>IC50</td>\n",
       "    </tr>\n",
       "    <tr>\n",
       "      <th>4</th>\n",
       "      <td>32772</td>\n",
       "      <td>CHEMBL674643</td>\n",
       "      <td>Inhibitory concentration of EGF dependent auto...</td>\n",
       "      <td>B</td>\n",
       "      <td>CHEMBL66879</td>\n",
       "      <td>=</td>\n",
       "      <td>nM</td>\n",
       "      <td>3000000.0</td>\n",
       "      <td>CHEMBL203</td>\n",
       "      <td>Homo sapiens</td>\n",
       "      <td>IC50</td>\n",
       "    </tr>\n",
       "  </tbody>\n",
       "</table>\n",
       "</div>"
      ],
      "text/plain": [
       "   activity_id assay_chembl_id  \\\n",
       "0        32260    CHEMBL674637   \n",
       "1        32267    CHEMBL674637   \n",
       "2        32680    CHEMBL677833   \n",
       "3        32770    CHEMBL674643   \n",
       "4        32772    CHEMBL674643   \n",
       "\n",
       "                                   assay_description assay_type  \\\n",
       "0  Inhibitory activity towards tyrosine phosphory...          B   \n",
       "1  Inhibitory activity towards tyrosine phosphory...          B   \n",
       "2  In vitro inhibition of Epidermal growth factor...          B   \n",
       "3  Inhibitory concentration of EGF dependent auto...          B   \n",
       "4  Inhibitory concentration of EGF dependent auto...          B   \n",
       "\n",
       "  molecule_chembl_id relation units       IC50 target_chembl_id  \\\n",
       "0        CHEMBL68920        =    nM       41.0        CHEMBL203   \n",
       "1        CHEMBL69960        =    nM      170.0        CHEMBL203   \n",
       "2       CHEMBL137635        =    nM     9300.0        CHEMBL203   \n",
       "3       CHEMBL306988        =    nM   500000.0        CHEMBL203   \n",
       "4        CHEMBL66879        =    nM  3000000.0        CHEMBL203   \n",
       "\n",
       "  target_organism  type  \n",
       "0    Homo sapiens  IC50  \n",
       "1    Homo sapiens  IC50  \n",
       "2    Homo sapiens  IC50  \n",
       "3    Homo sapiens  IC50  \n",
       "4    Homo sapiens  IC50  "
      ]
     },
     "execution_count": 78,
     "metadata": {},
     "output_type": "execute_result"
    }
   ],
   "source": [
    "bioactivities_df.rename(\n",
    "    columns={\"standard_value\": \"IC50\", \"standard_units\": \"units\"}, inplace=True\n",
    ")\n",
    "bioactivities_df.head()\n",
    "\n",
    "# df.rename() --> Convert from columns A to columns B"
   ]
  },
  {
   "cell_type": "code",
   "execution_count": 79,
   "metadata": {},
   "outputs": [
    {
     "name": "stdout",
     "output_type": "stream",
     "text": [
      "DataFrame shape: (6823, 11)\n"
     ]
    }
   ],
   "source": [
    "print(f\"DataFrame shape: {bioactivities_df.shape}\")"
   ]
  },
  {
   "cell_type": "code",
   "execution_count": 80,
   "metadata": {},
   "outputs": [],
   "source": [
    "####  Get compound data\n",
    "####  Fetch compound data from ChEMBL\n",
    "compounds_provider = compounds_api.filter(\n",
    "    molecule_chembl_id__in=list(bioactivities_df[\"molecule_chembl_id\"])\n",
    ").only(\"molecule_chembl_id\", \"molecule_structures\")"
   ]
  },
  {
   "cell_type": "code",
   "execution_count": 81,
   "metadata": {},
   "outputs": [
    {
     "name": "stderr",
     "output_type": "stream",
     "text": [
      "100%|██████████| 6823/6823 [00:00<00:00, 8776.66it/s]\n"
     ]
    }
   ],
   "source": [
    "# Download compound data form Chembl\n",
    "\n",
    "compounds = list(tqdm(compounds_provider))"
   ]
  },
  {
   "cell_type": "code",
   "execution_count": 82,
   "metadata": {},
   "outputs": [
    {
     "name": "stdout",
     "output_type": "stream",
     "text": [
      "DataFrame shape : (6823, 2)\n"
     ]
    }
   ],
   "source": [
    "compounds_df = pd.DataFrame.from_records(compounds)\n",
    "print(f\"DataFrame shape : {compounds_df.shape}\")"
   ]
  },
  {
   "cell_type": "code",
   "execution_count": 83,
   "metadata": {},
   "outputs": [
    {
     "data": {
      "text/html": [
       "<div>\n",
       "<style scoped>\n",
       "    .dataframe tbody tr th:only-of-type {\n",
       "        vertical-align: middle;\n",
       "    }\n",
       "\n",
       "    .dataframe tbody tr th {\n",
       "        vertical-align: top;\n",
       "    }\n",
       "\n",
       "    .dataframe thead th {\n",
       "        text-align: right;\n",
       "    }\n",
       "</style>\n",
       "<table border=\"1\" class=\"dataframe\">\n",
       "  <thead>\n",
       "    <tr style=\"text-align: right;\">\n",
       "      <th></th>\n",
       "      <th>molecule_chembl_id</th>\n",
       "      <th>molecule_structures</th>\n",
       "    </tr>\n",
       "  </thead>\n",
       "  <tbody>\n",
       "    <tr>\n",
       "      <th>0</th>\n",
       "      <td>CHEMBL6246</td>\n",
       "      <td>{'canonical_smiles': 'O=c1oc2c(O)c(O)cc3c(=O)o...</td>\n",
       "    </tr>\n",
       "    <tr>\n",
       "      <th>1</th>\n",
       "      <td>CHEMBL10</td>\n",
       "      <td>{'canonical_smiles': 'C[S+]([O-])c1ccc(-c2nc(-...</td>\n",
       "    </tr>\n",
       "    <tr>\n",
       "      <th>2</th>\n",
       "      <td>CHEMBL6976</td>\n",
       "      <td>{'canonical_smiles': 'COc1cc2c(cc1OC)Nc1ncn(C)...</td>\n",
       "    </tr>\n",
       "    <tr>\n",
       "      <th>3</th>\n",
       "      <td>CHEMBL7002</td>\n",
       "      <td>{'canonical_smiles': 'CC1(COc2ccc(CC3SC(=O)NC3...</td>\n",
       "    </tr>\n",
       "    <tr>\n",
       "      <th>4</th>\n",
       "      <td>CHEMBL414013</td>\n",
       "      <td>{'canonical_smiles': 'COc1cc2c(cc1OC)Nc1ncnc(O...</td>\n",
       "    </tr>\n",
       "  </tbody>\n",
       "</table>\n",
       "</div>"
      ],
      "text/plain": [
       "  molecule_chembl_id                                molecule_structures\n",
       "0         CHEMBL6246  {'canonical_smiles': 'O=c1oc2c(O)c(O)cc3c(=O)o...\n",
       "1           CHEMBL10  {'canonical_smiles': 'C[S+]([O-])c1ccc(-c2nc(-...\n",
       "2         CHEMBL6976  {'canonical_smiles': 'COc1cc2c(cc1OC)Nc1ncn(C)...\n",
       "3         CHEMBL7002  {'canonical_smiles': 'CC1(COc2ccc(CC3SC(=O)NC3...\n",
       "4       CHEMBL414013  {'canonical_smiles': 'COc1cc2c(cc1OC)Nc1ncnc(O..."
      ]
     },
     "execution_count": 83,
     "metadata": {},
     "output_type": "execute_result"
    }
   ],
   "source": [
    "compounds_df.head()"
   ]
  },
  {
   "cell_type": "code",
   "execution_count": 84,
   "metadata": {},
   "outputs": [
    {
     "name": "stdout",
     "output_type": "stream",
     "text": [
      "DataFrame shape : (6816, 2)\n"
     ]
    }
   ],
   "source": [
    "# Remove entries with missing molecule structure entry\n",
    "\n",
    "compounds_df.dropna(axis=0, how=\"any\", inplace=True)\n",
    "print(f\"DataFrame shape : {compounds_df.shape}\")"
   ]
  },
  {
   "cell_type": "code",
   "execution_count": 85,
   "metadata": {},
   "outputs": [
    {
     "data": {
      "text/plain": [
       "dict_keys(['canonical_smiles', 'molfile', 'standard_inchi', 'standard_inchi_key'])"
      ]
     },
     "execution_count": 85,
     "metadata": {},
     "output_type": "execute_result"
    }
   ],
   "source": [
    "compounds_df.iloc[0].molecule_structures.keys()"
   ]
  },
  {
   "cell_type": "code",
   "execution_count": 86,
   "metadata": {},
   "outputs": [
    {
     "name": "stdout",
     "output_type": "stream",
     "text": [
      "DataFrame shape: (6816, 2)\n"
     ]
    }
   ],
   "source": [
    "#### Get molecules with canonical SMILES\n",
    "\n",
    "canonical_smiles = []\n",
    "\n",
    "for i, compounds in compounds_df.iterrows():\n",
    "    try:\n",
    "        canonical_smiles.append(compounds[\"molecule_structures\"][\"canonical_smiles\"])\n",
    "    except KeyError:\n",
    "        canonical_smiles.append(None)\n",
    "\n",
    "compounds_df[\"smiles\"] = canonical_smiles\n",
    "compounds_df.drop(\"molecule_structures\", axis=1, inplace=True)\n",
    "print(f\"DataFrame shape: {compounds_df.shape}\")\n",
    "\n",
    "# itertuples() : iterate over DataFrame rows as namedtuples\n",
    "# iterrows() : iterate over DataFrame rows as (index, Series) pairs"
   ]
  },
  {
   "cell_type": "code",
   "execution_count": 87,
   "metadata": {},
   "outputs": [
    {
     "name": "stdout",
     "output_type": "stream",
     "text": [
      "DataFrame shape : (6816, 2)\n"
     ]
    }
   ],
   "source": [
    "# Remove all molecules without a canonical SMILES string.\n",
    "\n",
    "compounds_df.dropna(axis=0, how=\"any\", inplace=True)\n",
    "print(f\"DataFrame shape : {compounds_df.shape}\")"
   ]
  },
  {
   "cell_type": "code",
   "execution_count": 88,
   "metadata": {},
   "outputs": [
    {
     "name": "stdout",
     "output_type": "stream",
     "text": [
      "Bioacitivities filtered : 6823\n"
     ]
    },
    {
     "data": {
      "text/plain": [
       "Index(['activity_id', 'assay_chembl_id', 'assay_description', 'assay_type',\n",
       "       'molecule_chembl_id', 'relation', 'units', 'IC50', 'target_chembl_id',\n",
       "       'target_organism', 'type'],\n",
       "      dtype='object')"
      ]
     },
     "execution_count": 88,
     "metadata": {},
     "output_type": "execute_result"
    }
   ],
   "source": [
    "# Summary of compound and bioactivity data\n",
    "\n",
    "print(f\"Bioacitivities filtered : {bioactivities_df.shape[0]}\")\n",
    "bioactivities_df.columns"
   ]
  },
  {
   "cell_type": "code",
   "execution_count": 89,
   "metadata": {},
   "outputs": [
    {
     "name": "stdout",
     "output_type": "stream",
     "text": [
      "Compounds filtered : 6816\n"
     ]
    },
    {
     "data": {
      "text/plain": [
       "Index(['molecule_chembl_id', 'smiles'], dtype='object')"
      ]
     },
     "execution_count": 89,
     "metadata": {},
     "output_type": "execute_result"
    }
   ],
   "source": [
    "print(f\"Compounds filtered : {compounds_df.shape[0]}\")\n",
    "compounds_df.columns"
   ]
  },
  {
   "cell_type": "code",
   "execution_count": 90,
   "metadata": {},
   "outputs": [
    {
     "name": "stdout",
     "output_type": "stream",
     "text": [
      "Dataset with 6816 entries.\n"
     ]
    }
   ],
   "source": [
    "# Merge DataFrame\n",
    "\n",
    "output_df = pd.merge(\n",
    "    bioactivities_df[[\"molecule_chembl_id\", \"IC50\", \"units\"]],\n",
    "    compounds_df,\n",
    "    on=\"molecule_chembl_id\"\n",
    ")\n",
    "\n",
    "# Reset row indices\n",
    "\n",
    "output_df.reset_index(drop=True, inplace=True)\n",
    "\n",
    "print(f\"Dataset with {output_df.shape[0]} entries.\")\n",
    "# merge's parameter --> how, on\n",
    "# how --> \"left\", \"right\", \"inner\", \"outer\"\n",
    "# on --> select the stadard column"
   ]
  },
  {
   "cell_type": "code",
   "execution_count": 91,
   "metadata": {},
   "outputs": [
    {
     "data": {
      "text/plain": [
       "molecule_chembl_id     object\n",
       "IC50                  float64\n",
       "units                  object\n",
       "smiles                 object\n",
       "dtype: object"
      ]
     },
     "execution_count": 91,
     "metadata": {},
     "output_type": "execute_result"
    }
   ],
   "source": [
    "output_df.dtypes"
   ]
  },
  {
   "cell_type": "code",
   "execution_count": 92,
   "metadata": {},
   "outputs": [
    {
     "data": {
      "text/html": [
       "<div>\n",
       "<style scoped>\n",
       "    .dataframe tbody tr th:only-of-type {\n",
       "        vertical-align: middle;\n",
       "    }\n",
       "\n",
       "    .dataframe tbody tr th {\n",
       "        vertical-align: top;\n",
       "    }\n",
       "\n",
       "    .dataframe thead th {\n",
       "        text-align: right;\n",
       "    }\n",
       "</style>\n",
       "<table border=\"1\" class=\"dataframe\">\n",
       "  <thead>\n",
       "    <tr style=\"text-align: right;\">\n",
       "      <th></th>\n",
       "      <th>molecule_chembl_id</th>\n",
       "      <th>IC50</th>\n",
       "      <th>units</th>\n",
       "      <th>smiles</th>\n",
       "    </tr>\n",
       "  </thead>\n",
       "  <tbody>\n",
       "    <tr>\n",
       "      <th>0</th>\n",
       "      <td>CHEMBL68920</td>\n",
       "      <td>41.0</td>\n",
       "      <td>nM</td>\n",
       "      <td>Cc1cc(C)c(/C=C2\\C(=O)Nc3ncnc(Nc4ccc(F)c(Cl)c4)...</td>\n",
       "    </tr>\n",
       "    <tr>\n",
       "      <th>1</th>\n",
       "      <td>CHEMBL69960</td>\n",
       "      <td>170.0</td>\n",
       "      <td>nM</td>\n",
       "      <td>Cc1cc(C(=O)N2CCOCC2)[nH]c1/C=C1\\C(=O)Nc2ncnc(N...</td>\n",
       "    </tr>\n",
       "    <tr>\n",
       "      <th>2</th>\n",
       "      <td>CHEMBL137635</td>\n",
       "      <td>9300.0</td>\n",
       "      <td>nM</td>\n",
       "      <td>CN(c1ccccc1)c1ncnc2ccc(N/N=N/Cc3ccccn3)cc12</td>\n",
       "    </tr>\n",
       "    <tr>\n",
       "      <th>3</th>\n",
       "      <td>CHEMBL306988</td>\n",
       "      <td>500000.0</td>\n",
       "      <td>nM</td>\n",
       "      <td>CC(=C(C#N)C#N)c1ccc(NC(=O)CCC(=O)O)cc1</td>\n",
       "    </tr>\n",
       "    <tr>\n",
       "      <th>4</th>\n",
       "      <td>CHEMBL66879</td>\n",
       "      <td>3000000.0</td>\n",
       "      <td>nM</td>\n",
       "      <td>O=C(O)/C=C/c1ccc(O)cc1</td>\n",
       "    </tr>\n",
       "    <tr>\n",
       "      <th>5</th>\n",
       "      <td>CHEMBL77085</td>\n",
       "      <td>96000.0</td>\n",
       "      <td>nM</td>\n",
       "      <td>N#CC(C#N)=Cc1cc(O)ccc1[N+](=O)[O-]</td>\n",
       "    </tr>\n",
       "    <tr>\n",
       "      <th>6</th>\n",
       "      <td>CHEMBL443268</td>\n",
       "      <td>5310.0</td>\n",
       "      <td>nM</td>\n",
       "      <td>Cc1cc(C(=O)NCCN2CCOCC2)[nH]c1/C=C1\\C(=O)N(C)c2...</td>\n",
       "    </tr>\n",
       "    <tr>\n",
       "      <th>7</th>\n",
       "      <td>CHEMBL76979</td>\n",
       "      <td>264000.0</td>\n",
       "      <td>nM</td>\n",
       "      <td>COc1cc(/C=C(\\C#N)C(=O)O)cc(OC)c1O</td>\n",
       "    </tr>\n",
       "    <tr>\n",
       "      <th>8</th>\n",
       "      <td>CHEMBL76589</td>\n",
       "      <td>125.0</td>\n",
       "      <td>nM</td>\n",
       "      <td>N#CC(C#N)=C(N)/C(C#N)=C/c1ccc(O)cc1</td>\n",
       "    </tr>\n",
       "    <tr>\n",
       "      <th>9</th>\n",
       "      <td>CHEMBL76904</td>\n",
       "      <td>35000.0</td>\n",
       "      <td>nM</td>\n",
       "      <td>N#CC(C#N)=Cc1ccc(O)c(O)c1</td>\n",
       "    </tr>\n",
       "  </tbody>\n",
       "</table>\n",
       "</div>"
      ],
      "text/plain": [
       "  molecule_chembl_id       IC50 units  \\\n",
       "0        CHEMBL68920       41.0    nM   \n",
       "1        CHEMBL69960      170.0    nM   \n",
       "2       CHEMBL137635     9300.0    nM   \n",
       "3       CHEMBL306988   500000.0    nM   \n",
       "4        CHEMBL66879  3000000.0    nM   \n",
       "5        CHEMBL77085    96000.0    nM   \n",
       "6       CHEMBL443268     5310.0    nM   \n",
       "7        CHEMBL76979   264000.0    nM   \n",
       "8        CHEMBL76589      125.0    nM   \n",
       "9        CHEMBL76904    35000.0    nM   \n",
       "\n",
       "                                              smiles  \n",
       "0  Cc1cc(C)c(/C=C2\\C(=O)Nc3ncnc(Nc4ccc(F)c(Cl)c4)...  \n",
       "1  Cc1cc(C(=O)N2CCOCC2)[nH]c1/C=C1\\C(=O)Nc2ncnc(N...  \n",
       "2        CN(c1ccccc1)c1ncnc2ccc(N/N=N/Cc3ccccn3)cc12  \n",
       "3             CC(=C(C#N)C#N)c1ccc(NC(=O)CCC(=O)O)cc1  \n",
       "4                             O=C(O)/C=C/c1ccc(O)cc1  \n",
       "5                 N#CC(C#N)=Cc1cc(O)ccc1[N+](=O)[O-]  \n",
       "6  Cc1cc(C(=O)NCCN2CCOCC2)[nH]c1/C=C1\\C(=O)N(C)c2...  \n",
       "7                  COc1cc(/C=C(\\C#N)C(=O)O)cc(OC)c1O  \n",
       "8                N#CC(C#N)=C(N)/C(C#N)=C/c1ccc(O)cc1  \n",
       "9                          N#CC(C#N)=Cc1ccc(O)c(O)c1  "
      ]
     },
     "execution_count": 92,
     "metadata": {},
     "output_type": "execute_result"
    }
   ],
   "source": [
    "output_df.head(10)"
   ]
  },
  {
   "cell_type": "code",
   "execution_count": 93,
   "metadata": {},
   "outputs": [],
   "source": [
    "def convert_ic50_to_pic50(IC50_value):\n",
    "    pIC50_value = 9 -math.log10(IC50_value)\n",
    "    return pIC50_value"
   ]
  },
  {
   "cell_type": "code",
   "execution_count": 94,
   "metadata": {},
   "outputs": [],
   "source": [
    "# Apply conversion to each row of the compounds DataFrame\n",
    "output_df[\"pIC50\"] = output_df.apply(lambda x: convert_ic50_to_pic50(x.IC50), axis=1)"
   ]
  },
  {
   "cell_type": "code",
   "execution_count": 95,
   "metadata": {},
   "outputs": [
    {
     "data": {
      "text/plain": [
       "array([[<Axes: title={'center': 'pIC50'}>]], dtype=object)"
      ]
     },
     "execution_count": 95,
     "metadata": {},
     "output_type": "execute_result"
    },
    {
     "data": {
      "image/png": "[encoded data removed]",
      "text/plain": [
       "<Figure size 640x480 with 1 Axes>"
      ]
     },
     "metadata": {},
     "output_type": "display_data"
    }
   ],
   "source": [
    "output_df.hist(column=\"pIC50\")"
   ]
  },
  {
   "cell_type": "code",
   "execution_count": 96,
   "metadata": {},
   "outputs": [],
   "source": [
    "# Add molecule column\n",
    "PandasTools.AddMoleculeColumnToFrame(output_df, smilesCol=\"smiles\")\n",
    "\n",
    "# PandasTools.AddMoleculeColumnToFrame --> If I have a Pandas DataFrame table of molecule SMILES strings, I get that I can use PandasTools. \n",
    "# AddMoleculeColumnToFrame() to add a column of structure images that will be displayed when out put to a Jupyter Noth book.\n",
    "# However, when the table is very laget(e.g., over ~100 rows), only the first 5 nad last 5 rows are shwon.\n",
    "\n",
    "# PandasTools.AddMoleculeColumnToFrame's parameter --> frame/smilesCol=\"smiles\"/molCol=\"ROMol\"/includeFingerprints=\"False\"\n",
    "# smilesCol에 포함된 molecules를 RDKit molecules로 convert 하고 지정된 column 이름을 사용하여 DataFrame에 추가"
   ]
  },
  {
   "cell_type": "code",
   "execution_count": 97,
   "metadata": {},
   "outputs": [
    {
     "data": {
      "text/plain": [
       "Index(['molecule_chembl_id', 'IC50', 'units', 'smiles', 'pIC50', 'ROMol'], dtype='object')"
      ]
     },
     "execution_count": 97,
     "metadata": {},
     "output_type": "execute_result"
    }
   ],
   "source": [
    "output_df.columns"
   ]
  },
  {
   "cell_type": "code",
   "execution_count": 98,
   "metadata": {},
   "outputs": [],
   "source": [
    "# Sort molecules by pIC50\n",
    "output_df.sort_values(by=\"pIC50\", ascending=False, inplace=True)\n",
    "\n",
    "# Reset index\n",
    "output_df.reset_index(drop=True, inplace=True)"
   ]
  },
  {
   "cell_type": "code",
   "execution_count": 99,
   "metadata": {},
   "outputs": [
    {
     "name": "stderr",
     "output_type": "stream",
     "text": [
      "/home/dbsejrgus226/miniconda3/envs/606server_virtual_env_1/lib/python3.12/site-packages/rdkit/Chem/PandasPatcher.py:132: FutureWarning: DataFrame.applymap has been deprecated. Use DataFrame.map instead.\n",
      "  for col in df_subset.columns[df_subset.applymap(MolFormatter.is_mol).any()]\n"
     ]
    },
    {
     "data": {
      "text/html": [
       "<div>\n",
       "<style scoped>\n",
       "    .dataframe tbody tr th:only-of-type {\n",
       "        vertical-align: middle;\n",
       "    }\n",
       "\n",
       "    .dataframe tbody tr th {\n",
       "        vertical-align: top;\n",
       "    }\n",
       "\n",
       "    .dataframe thead th {\n",
       "        text-align: right;\n",
       "    }\n",
       "</style>\n",
       "<table border=\"1\" class=\"dataframe\">\n",
       "  <thead>\n",
       "    <tr style=\"text-align: right;\">\n",
       "      <th></th>\n",
       "      <th>molecule_chembl_id</th>\n",
       "      <th>IC50</th>\n",
       "      <th>units</th>\n",
       "      <th>smiles</th>\n",
       "      <th>pIC50</th>\n",
       "      <th>ROMol</th>\n",
       "    </tr>\n",
       "  </thead>\n",
       "  <tbody>\n",
       "    <tr>\n",
       "      <th>0</th>\n",
       "      <td>CHEMBL63786</td>\n",
       "      <td>3.000000e-03</td>\n",
       "      <td>nM</td>\n",
       "      <td>Brc1cccc(Nc2ncnc3cc4ccccc4cc23)c1</td>\n",
       "      <td>11.522879</td>\n",
       "      <td style=\"text-align: center;\"><div style=\"width: 200px; height: 200px\" data-content=\"rdkit/molecule\"><img src=\"data:image/png;base64,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\" alt=\"Mol\"/></div></td>\n",
       "    </tr>\n",
       "    <tr>\n",
       "      <th>1</th>\n",
       "      <td>CHEMBL53711</td>\n",
       "      <td>6.000000e-03</td>\n",
       "      <td>nM</td>\n",
       "      <td>CN(C)c1cc2c(Nc3cccc(Br)c3)ncnc2cn1</td>\n",
       "      <td>11.221849</td>\n",
       "      <td style=\"text-align: center;\"><div style=\"width: 200px; height: 200px\" data-content=\"rdkit/molecule\"><img src=\"data:image/png;base64,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\" alt=\"Mol\"/></div></td>\n",
       "    </tr>\n",
       "    <tr>\n",
       "      <th>2</th>\n",
       "      <td>CHEMBL35820</td>\n",
       "      <td>6.000000e-03</td>\n",
       "      <td>nM</td>\n",
       "      <td>CCOc1cc2ncnc(Nc3cccc(Br)c3)c2cc1OCC</td>\n",
       "      <td>11.221849</td>\n",
       "      <td style=\"text-align: center;\"><div style=\"width: 200px; height: 200px\" data-content=\"rdkit/molecule\"><img src=\"data:image/png;base64,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\" alt=\"Mol\"/></div></td>\n",
       "    </tr>\n",
       "    <tr>\n",
       "      <th>3</th>\n",
       "      <td>CHEMBL53753</td>\n",
       "      <td>8.000000e-03</td>\n",
       "      <td>nM</td>\n",
       "      <td>CNc1cc2c(Nc3cccc(Br)c3)ncnc2cn1</td>\n",
       "      <td>11.096910</td>\n",
       "      <td style=\"text-align: center;\"><div style=\"width: 200px; height: 200px\" data-content=\"rdkit/molecule\"><img src=\"data:image/png;base64,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\" alt=\"Mol\"/></div></td>\n",
       "    </tr>\n",
       "    <tr>\n",
       "      <th>4</th>\n",
       "      <td>CHEMBL66031</td>\n",
       "      <td>8.000000e-03</td>\n",
       "      <td>nM</td>\n",
       "      <td>Brc1cccc(Nc2ncnc3cc4[nH]cnc4cc23)c1</td>\n",
       "      <td>11.096910</td>\n",
       "      <td style=\"text-align: center;\"><div style=\"width: 200px; height: 200px\" data-content=\"rdkit/molecule\"><img src=\"data:image/png;base64,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\" alt=\"Mol\"/></div></td>\n",
       "    </tr>\n",
       "    <tr>\n",
       "      <th>...</th>\n",
       "      <td>...</td>\n",
       "      <td>...</td>\n",
       "      <td>...</td>\n",
       "      <td>...</td>\n",
       "      <td>...</td>\n",
       "      <td>...</td>\n",
       "    </tr>\n",
       "    <tr>\n",
       "      <th>6811</th>\n",
       "      <td>CHEMBL261238</td>\n",
       "      <td>5.000000e+06</td>\n",
       "      <td>nM</td>\n",
       "      <td>CN(c1cccnc1)c1cc2c(Nc3ccc(F)c(Cl)c3)c(C#N)cnc2cn1</td>\n",
       "      <td>2.301030</td>\n",
       "      <td style=\"text-align: center;\"><div style=\"width: 200px; height: 200px\" data-content=\"rdkit/molecule\"><img src=\"data:image/png;base64,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\" alt=\"Mol\"/></div></td>\n",
       "    </tr>\n",
       "    <tr>\n",
       "      <th>6812</th>\n",
       "      <td>CHEMBL76587</td>\n",
       "      <td>6.500000e+06</td>\n",
       "      <td>nM</td>\n",
       "      <td>N#CC(C#N)Cc1ccc(O)cc1</td>\n",
       "      <td>2.187087</td>\n",
       "      <td style=\"text-align: center;\"><div style=\"width: 200px; height: 200px\" data-content=\"rdkit/molecule\"><img src=\"data:image/png;base64,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\" alt=\"Mol\"/></div></td>\n",
       "    </tr>\n",
       "    <tr>\n",
       "      <th>6813</th>\n",
       "      <td>CHEMBL490510</td>\n",
       "      <td>1.900000e+07</td>\n",
       "      <td>nM</td>\n",
       "      <td>O=C(/C=C/c1ccc(O)c(O)c1)c1ccc(O[C@@H]2O[C@H](C...</td>\n",
       "      <td>1.721246</td>\n",
       "      <td style=\"text-align: center;\"><div style=\"width: 200px; height: 200px\" data-content=\"rdkit/molecule\"><img src=\"data:image/png;base64,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\" alt=\"Mol\"/></div></td>\n",
       "    </tr>\n",
       "    <tr>\n",
       "      <th>6814</th>\n",
       "      <td>CHEMBL45068</td>\n",
       "      <td>2.500000e+07</td>\n",
       "      <td>nM</td>\n",
       "      <td>O=C(CCc1ccc(O)cc1)c1c(O)cc(O)cc1O</td>\n",
       "      <td>1.602060</td>\n",
       "      <td style=\"text-align: center;\"><div style=\"width: 200px; height: 200px\" data-content=\"rdkit/molecule\"><img src=\"data:image/png;base64,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\" alt=\"Mol\"/></div></td>\n",
       "    </tr>\n",
       "    <tr>\n",
       "      <th>6815</th>\n",
       "      <td>CHEMBL4798627</td>\n",
       "      <td>5.500000e+07</td>\n",
       "      <td>nM</td>\n",
       "      <td>O=C(Cc1csc2nc3ccccc3n12)Nc1ccccc1O</td>\n",
       "      <td>1.259637</td>\n",
       "      <td style=\"text-align: center;\"><div style=\"width: 200px; height: 200px\" data-content=\"rdkit/molecule\"><img src=\"data:image/png;base64,iVBORw0KGgoAAAANSUhEUgAAAMgAAADICAIAAAAiOjnJAAAABmJLR0QA/wD/AP+gvaeTAAAgAElEQVR4nO2deVzU1frHn+8MDJugKCAoqKCiF3dBQHAXu2KjlklX7w3L/KVGiqYWaTdRyzI1RTMTr6+MLHPXRoTc94VVZVULkk0W2TdZZub5/XFwGEFhlu+ZITzvF3/MMPN9zhn4zDnne86zcIgIDAbfCPTdAUb7hAmLQQUmLAYVmLAYVGDCYlCBCYtBBSYsBhWYsBhUYMJiUIEJi0EFJiwGFZiwGFRgwmJQgQmLQQUmLAYVmLAYVGDCYlCBCYtBBSYsBhWYsBhUYMJiUIEJi0EFJiwGFZiwGFRgwmJQgQmLQQUmLAYVmLAYVGDCYlCBCYtBBSYsBhWYsBhUYMJiUIEJi0EFJiwGFZiwGFRgwmJQgQmLQQW9CSsyMvLSpUtyuVxfHWBQRQ/CysnJWbBggVgsHj9+/ODBg6VSqe77wKCNToVVUVHx3//+t2/fvrt37zYwMOA4Ljk5eebMmTU1NbrsBkMXoE6QyWRhYWF2dnYAwHGcn59fenr6jRs3rK2tAWDs2LGlpaW66QlDN+hCWOfOnRsyZAjRsbu7+9WrVxUvpaSkODg4AMDAgQNzcnJ00BmGbqArrHv37vn5+RFJOTg4hIWFyeVyxaupqamImJGR0a9fPwBwcnL6448/qPaHoTNoCau+/nFGRsBrr7kAQMeOHTdu3FhTU6P8huDgYJFIdOjQIUQsKiry9PQEAFtb2zt37lDqEkOX8C8subwmL2/j7dsdY2Ph1i23gICAgoKC5m9bunQpAAiFwt27dyNiRUXFK6+8AgCWlpbXrl3jvVcMHcOzsEpLJYmJvWNjITYWHjzwqa6+28KbN2zYwHEcx3HBwcGIWFtbS+ZNU1PTiIgIfjvG0DG8CauqKubevTFEUklJ/UtLT6py1d69ew0MDABg8eLFMplMKpXOnz8fAAwMDPbu3ctX3xi6RxNh1dZmlpQcLyv7XSarQsS6uuyHD+fHxgpiY+HOnS75+SFyeb3q1o4fP25sbAwAb731Vl1dnVwuDw4OJrsSW7Zs0aB7jLaA2sIqKzudkNAzO3tlRkZAQcF3BQW74uNNYmMhPt44O/sTqbRMg05cuHDBwsICAMRicXV1NSJu27ZNIBAAQFBQkAYGGXpHbWGlp/+7oOB7xdPy8guxsfDHH+KamjRt+hETE0M2S8eMGUM2S/ft22doaAgAAQEBMplMG+MM3aO2sHJy/puSMrSi4ipiw47UkycpvHQlNTW1R48eypulEonExMQEAGbPnl1XV8dLK4iYm5sbHh6+du3aIUOGmJqajhkzpqqqii/jDILawpLLpfn5IcnJQ5KSnKuq4vjtTU5OzqBBgwDA0dGRbJZevny5Y8eOADBx4sTy8nLNzJaUlFy9ejUkJMTf39/FxaX5udbkyZOVd25fdmpq8OBB/Owz/O47THs6Ee3bh9nZje/56quWbWh+V5ifvz011VPjy19EUVHRyJEjlTdLExMTu3XrBgAjRox4/PixKkZKS0uVlcRxnLKMzM3Nvb29AwMDd+3atXLlSjIofvbZZ7x/lr8l9fXo6Ylz5uChQ7hpE9ra4o0biIheXqi8v9jaKbPawpLJnpAHZWWRqakj1L1cFSorK//5z38CQKdOncjBYnp6ep8+fQDAxcUlKyur+SUqKiksLCwpKanJii0iIoJseXz33Xc0Ps5zyc/Hc+canyYnY1s5cdi7F6dMaXx66BCOGoVIX1gPH85LTfX488/pCQk9SktPqXu5itTW1r755ptks/TUqVOImJubS06ye/bsef/+/ZaV1KFDhxaU1Jw9e/aQY4ATJ05Q+kRNuHgRx45tfLp+Pa5cqZuWW2PBAty2rfFpRQUaGaFUil5euG4dHjzY8NOasAzUc7IB6Nlzj1RaJJU+Fol6ANDy/xSJRPv377e0tAwNDZ0+ffru3bvnzp178eJFsVh848YNT0/PkpIS5fd36NBh2LBhrq6urq6ubm5uzs7OZLdCRebNm5eRkfH555//+9//Pn/+PDm4fEmprART08anxsYgk0FtLQDAw4cgk6lqRzNZFxXtu33bPDNzkWaXq4hcLl+1ahUAmJqa5ubmImJ5eXmHDh1sbGwMDQ1dXV0VY5JUKtW+rblz5wKAtbW1DpwsLl7EYcPw5s2Gn4UL28yItXo1rljR+DQ5Ge3tEdWeCtUesQiGhnYyWUVVVZxml6sIx3Hr16+3trZ2cnKytbUFgFOnTlVWVtra2mZnZ5NdLh7bCg0NffTo0enTp319fRVOiPTIzYXduxseJyTAK69QbU1l3n0XRo6Et96CIUPgyRP45BMICNDEjmaylkqLY2O5+HhTtU5vtMfV1RUAQkNDKdkvLy8fNmwYAHh4eFDd3Gq7ayxEjIhAd3f8xz9w4ED86CMkO4hTp2J0dON7unZt2YaGI5ZQaGlk5FRbm1ZTk2piMkgzI+py/vz5uLg4Gxsbf39/Sk2Ym5ufOnVq5MiRUVFRs2fPPnbsmFAopNRW24Xj4NIlMDF55pcSyTNP8/JatqF5MIWpqRsAVFfHamxBXTZt2gQAgYGBJk0+M6/Y2dlFRERYWlpKJJLFixfTa6iNcu8e+PpCv36AqJUdjcfLvLyNsbGQkfGBxhbUIiEhgeM4U1PTwsJCHTR3+fJlIyMjANi6dSsN+xUV+PvvqDimuncP//qLRjvqs2YNAuC772ppRnNhlZefj40FGpvvz4VMf0uWLNFNc4h44MABgUAgEAgOHz7Mu/GUFATAr79ueLpiBYaE8N6IRgwYgAAYGamlGc2FJZWWxsZy8fHGcjlvx8MvIisrSyQSCYXCtDStfCjU5euvvwYAY2Nj5cgiXkhJwf790ckJHz5EbDvCSkxEALS0xNpaLS1pvsYSCjsaGfWWy2tqalK1moxVYOvWrXV1dW+++aaTkxPttpT5+OOPAwMDa2pqpk+ffu/ePX6Nd+gAn34Kixbxa1U7Dh8GAJg5E0QiLS1pFQltZuYGAFVVdNfvpaWQlGRtadl5xYoVVBt6Llu3bp0xY0ZxcbGvr29ea7dCLZOWBocOQVAQvPNOw2/eeQcKC+H4ce27yRNEWE8j9rRCm+EuJmZXQMDYzZtXaTlstsyGDQiAvr5PqLbSAtXV1V5eXgDg6upaUVGh+oU5OSiRYHAwisVobY0ADT8CAUZHo5sbImJ8PPbpg4sWtYGp8O5dBEArK6znYW9SK2FduHABANzd3bXvx4uoqcFu3RAAT5+m10jrFBYWkqhaX1/f+hf/3f/6668jR46sWbNl0iTs3LlRSeTHzg7FYgwORokEb99uEBYiLl6MlpZtQFiffooAuGABL8a0ElZZWZlAIDA2NubRvbMJe/YgAA4ejHr3w0tLS+vSpQsAzJs3T/HLnJwciUQSHBwsFottbGzIJMBxAktLOQB26oTe3hgYiGFhmJT0jLWUlEZhlZVht24NwtLnx+zfHwHw/HlejGkb/uXs7AwAt2/f5qU3TZDL0cUFAfDnn2mYVxviJQYAjo6OPj4+zQ8TbWxsfH19P/vss/Dwkue5jTVSV/eMP2ZBARYV4Qcf4Mcf0/4QzycrIaFiwADs2hW1Ps4naCus2bNnA8D//vc/XnrThN9+QwC0t0dqA6IaPHnyhIQSAYDi/LuJC6E2/s1xcSgSIQDu2MFjr1Vl5cqVABC8dClfBrUV1ubNmwFg4cKFvPSmCaNGIQDS2fpWmyNHjgDAiBEjTp48+eqrrwKAtbW19u46yuzfjxyHAgEePcqjVZUgDroXL17ky6C2wrp06RIAuCnWC/wRFdWwV6dpCAXP/Otf/wKATZs2IeLHH38MAIsW8e+O9sUXCIAmJnj9Ou+2X0hMTAwA2Nra8vg90VZYFRUVAoFAJBI1SSajPa+/jgC4iu5WhqpUVVV16NCB47i//voLEXv37g0AV65codHWBx8gAHbpgvfv0zD/HMj3ZPHixTza5CF3Q//+/QEgLo7PULD0dBQI0MgIHz3i0armHDx4EAA8PT0RMSoqCgDs7OwohdFKpTh9OgKgkxPm5dFooSk0vic85CAlzndXrlzR3pQCR0c4exY2bQI7Ox6tas7hw4cBgMR3HDp0iDxWy61edYRC2L8fPD0hPR3EYqiqotFII1FRUWlpaXZ2dt7e3nza1V6bS5cutbS0BABjY2MnJycfHx9/f/+goKDQ0NCzZ88mJSVVVlaqYufyZXR2xvT0hqcffIBnzmjfOx6orKw0MzPjOC4jI0Mul/fs2RMArlNeBOXloaMjAuDcuQ/5vUVowvLlywFgKX/3gwQehDV27Fiiqhdpl+M4D4/xnp7o54fLlmFICB47hjExTcf5yEi0tm6MafPzw+PHte8dD+zfvx8AvL29EfHGjRsAYG9vr4PI6Xv3cNSoq5aWnQMCAig1Qe97oqFrsoKYmJjLly9bWFhkZmaKRKLc3Nz09PT09PRHjx4pHmdmZsrlJjExcOtW08uNjaFHD3BwgL59Yfp0GDMGSkvhyBGYOVPLfvGJ8jyoeNwkkpEG/frBN9+Ixo+v2blzZ48ePYKCgnhv4urVqxkZGQ4ODiT6nE+0FOYbb7wBAJ988kkL75FKpdnZpdeu4f79uHEjLl6MU6fi0KHYpUvjOZqzM0ZG4htvYFIS9uqFZWVtZsQqLz/r6Tl39Ojs7Gy5XE7Slty8eVNn7UskEqFQyHHcTz/9pL21+vr6pKSksLCwwMBAb29vkUhkYWHxyiuvaG+5CVoJKy0tTSgUGhkZ5eTkyOXyxMREdS1UVWFKCp4+jRERDcJCxBUrcPnyNiOsn39GABwzBhFLb96c4+09yMVFxxlEdu7cCQCGhoZnz55V99r6+vq7d+/+8MMPAQEBHh4eTVYsAoFAKBQaGBiEh4fz22ethLVw4UJ4eigbHh4OAO+8847G1hTCqqhAJyccPrxtCGvatMZzlsBABHgmnlNXfPjhhwBgYWFx925LaV0RUSqVKo9JpsphzQAAYGdnJxaLg4ODJRJJYWEhyZ9oYmLC7zCsubAKCgpMTExI2RJ8uoTfvHmzxgYVwkLEw4cRoA0Iq6wMjY1RIMCcHJTJsHt3BHgmvE5XyOXy//znPwDQvXv3zMxM5ZeaKMnMzKwFJT03Xc/7778PAFZWVg8ePOCrw5oLa/Xq1QAwbdo0RIyOjibfJ20ql9y/j/v2NT7duLGpq4keCAtDABw/HhHx0iUEQEdHfbm21NbWTpgwAQAGDhyYmppK3HV8fHw0UJKCM2fOSKXSuro64rjRu3fv/Px8XnqrobCqqqqsrKwAgEQZzJw5E/jLF3rlCs6di20iafKrryIAfv894tOjlhZvU2hTVFT03Hwnykp6blb957JlyxaO4xYsWIBKIeDu7u68hIBrKKxvv/0WAEaMGIHPLuG17xA+HSZmzuTFmBaUlKBIhEIh5uejTIZ2dgiAvJ5cacDGjRvJ5PDGG298+eWXp0+fLioq0sxUdHQ0Ge3Wr1+PiI8ePSJ7WlOnTtV+S1YTYUml6OpaN27cuWPHIvDpDP2u1iGOCpKTEQB79eLLnqb88AMCoI8PIuKFCw2nd/qGzFl8OcCdPHmS7GX8+OOPiJiSktK5c2fgww9KE2EdONDwR5ZKsbCwkBx3JPG3IJLJ0NwcAVDlQZ0OkycjAO7ejYi4cGFb8LUoLCw0NDQ0MDBQfb5rlV27dpG9jDNnziDilStXyJbEN998o41ZTYTl4YEAuGsXIuKaNZ8DgFgs1qYTzSEufvoMoCguRpEIDQywoAClUrSxQQC9p3PcvXs3AEyePBkRz58/P3HixCNHjmhv9qOPPiLTK0n6evDgQYFAwHHcz1q4hKstrPPnEQBtbLC6GquqsFcv2dixMVeu3NK4B89lyRIEwPXr+bWqDhERaGiIZEv67NmGwwF94+PjAwA//PADIv7f//0fAKxevVp7s3K5nGQw6NatW0ZGBiKS/Csikei8prEVaguLzA+ff46IuGMHAuAIChluf/oJAXDGDP4tq0FRUYOv3XvvIQDqO63y48ePDQwMDA0Ni4qK6uvrSSgHXyuQ2traiRMnAsCAAQNKSkoQccmSJQDQsWPHhIQEDQyqJ6zEROQ4NDXFx49RKsU+fRAA+RiMm0JyZvTsyb9lVbl2Db/7Dn/9FXNy8PFj3LUL+ds81Izvv/8eAF599VVEjIyMBID+/fvzaL+0tHTw4MEAMG7cuJqaGplMNmPGDACwt7d/bqbqllFPWHPmIAAGBiJiQ+ZcsoTnHT2v3+fMwdGjcft2XL0abW3x0iV9dKIp48ePB4CwsDBEJOlS165dy28T2dnZ9vb2ADBr1iy5XF5dXU28/4YPH65WCDiqJazs7IZtnT//RHy6hP/++9Yu05TRoxEAf/+dlv0XcukSurg0fl0iInDQIJ13oil5eXlCoVAkEhUXF9fV1ZFNgZQUforNKJOQkEBKgaxatQpVDgFvjhrCWr4cAXDWLETEixcRAK2tsbpazY6rzIcfoq2tNCQkl1YDL2Ldume21+VyNDXF4mJdd+NZduzYoThAI+f9gwcPptTWhQsXRCIRAHz77beImJ6e3rVrV3g2BLxV1BDWxIkIgLGxiIhTpiAA8j0SP8MvvxwEgNdff51iG89l2bKmt6N2dqjbvFzNGTNmDADs27cPEefMmQMAn5MbKDr8/PPPHMcJhcLjx48jYkxMDNmjV33ybUVYsbGocFh//BhPnUJETElpXMLTIzU1FQAcHBwotvFctm9/JlFiWRkaGek3Fjs3N1coFBobG5eWltbU1JCpKjU1lWqja9asIe40N27cQMTw8HADAwOO48hmR6u0VhEF8IOnSUb37EGy0Z+ejm+/jR9+qE23W0cmk5GQdlI6QHfk5WHXrkjuseVyXLoU1ZkCaLBt2zbF4P3bb78BwLBhw3TQbhN3GrI9a2hoeFSFSO1WhGVigkOHYlQUopKwdAbx8dJD4fHwcBw0CN3dsX9/nDFD7wsscmu2f/9+RCReWV9++aUO2pVKpdOmTVN2p/nkk08AgOO4VjdOWxGWmRmeO4fDh6NUqgdhLVu2DADWrVun01YVVFZS2UpRk6ysLJIrqqysTJGYRAdFWQgKdxo/Pz9ElMvlpAOthk23HnI5cSL07g07drT6Rv4hobBxcXQLq7wQMzNoA9UDDh8+LJfLxWKxhYVFZGRkeXm5m5sbyeGhA0hFhalTp27duhUAOI4jwurevXsrV7asOzMzRMSsLLS3x6++0vWIdf/+fQCwJ0WCXlZIYNbBgwcRcdasWQDwtSKLt865e/cuAFhZWbW6p6WSsBBx82a0sdG1sORyeadOnQDgURtJ4aBzMjMzSdmEyspKkpgEAP4kO9T64NNPPwWABSqkk1Q1+8CSJQ1pFK5fh3XrNBpV1YfjODLBx8fH66jJNgYZqMRisZmZWURERGVlpYeHB8nhoReOHj0KT2N3W6Fl3cXHNz5+9AhTUhqy/77/PtJJtdKUefPmgXZRZX9r3N3dAYA4Xfn5+YF2cVBaQr7e1tbWqpztqO02c/IkmpggAL72Gj6hmSG7uLg4KChIJBKR8wSxWKzjshR6Jz09neM4MzMzMg8ST92HpJSFPiB7DSomktDEg/TWrYbo+AkTqKTbq6ur27ZtGzlnFQgE3t7e5E7ExMQkODi4mt7xZBtjw4YNADB79mxEPHDgAAB4eXnpsT/kVvSSar4eGkbpJCU1BG+OGMGzZ8vZs2cHDBhApukJEyaQfMy5ubnz588nYU/29vbEdaTdQ3ZbyGkdcY2iVIpMFdRNJ6l5wGp6OvbtiwD4j3/gs6G5GpKcnOzr60sk5ezsfOjQoSZviI6O9vDwUGiOx/CNNghJ7mpiYkJG6Pfff79z584aONzxhbrpJLXK3ZCbi0OHIgD26IH37mluJycnZ/78+aSWaefOnTds2KCc0TQpKWnSpEkk44hMJgsLCyNeuYaGhoGBgWVlZdp8hDYLSUctEomePF3JquUOxTvqppPUNo1RSUlDRM2kScdjYmLUvbyqqmrDhg1kCWVoaDh//vzmIeGvvfYaeXXZsmVERsXFxYGBgUSIdnZ2YWFhOk7/ogPu379Ppv758+fruy9469YtUDPtKg8Z/aqr8b33YoyMjMzNzVUP6pDL5YcOHerVqxeZ2sRi8YvOv0pKShQysrW1DQ0NJR8vPj5ekTZzxIgRUeSovB0RGRlJvKC++OIL/fZEg3SSPAgLEaVS6bvvvkuG7uZro+bcunWL1NMCAFdXV1VuNO7cuTN69GhyiZub261bt/CpOh0cHMj9o7+/f8s5MP52NIlU1guapZPkR1ikeVJPUCgU7ibRw88jIyPD39+f5Fns3r17aGioWmkCJBIJyalHZEQCgisrK4ODg4k3befOnUNCQqhmg9Uxikjl03qK371+/ToAODg4qLXe4E1YBLL1wnFccHBwk5dKSkqCgoJIBW9TU9OgoKByjTbBiIyIHUtLS4WM7t+/P3nyZDKkDRs2jHZWY11CIpXNzc0pFcNqmaVLlwLA8uXL1bqKZ2Eh4t69ew0MDAAgMDCQLIbq6+tDQ0NJ1TWBQODn50fCbbXhwYMHU6ZMITIaOnSoomazRCIh6zaO4/z9/fN0k4GfMs0jlXXZNJkiyNpDdfgXFiIeP36cJJbw9/f//fffBw4cSBQwfvz4eOXTR62RSCSOjo5ERn5+fiTVXXV1dXBwMOmAmZlZcHBwrdals/WOIlLZxcWlWIcerVevXtVgHkRKwkLEM2fOEB8PxYbnb7/9RqOh6urqDRs2kLsnIiOyB/bnn39OnTqVtN6pU6c9e/bQaF2XlJWVkUjlsWPH8l656EUsXrwYAD766CN1L6QlLES8dOlSx44dzczMtm3bRq8EKyErK4tMFkTEkZGR5Pfnzp0job0dOnRQsUBGWyY7O5vcApNIZdrNyWSybt26AYAGO5QUhVVaWgoAHTt2pNdEE86fP684ZxSLxaRSV1lZGbkJbR/rrcTEROL8uHLlSt6NS6XSxMRExTE/OVZydHTUQMQUhVVUVETu/xExPz8/KChIy1xeqlBXVxcSEkK28g8cOEB+aWJiAgDtxi2iSaSylqSlpTXJuHzhwgXyUkBAALRWHeJFUBRWQUEBAFhZWSFiYmIiAAwcOJBec8rk5OQo71aTf0M7WMIr+OWXX0ik8rFjx9S6UCaTpaSk7Nu3b8mSJaNGjWqecdnJyUkikZB32tnZAYBm91sUhZWXlwcAXbt2RcQ7d+4AwJAhQ+g11wLkOKg97Zoi4tq1a0EpUrkFcnJySO5usVhMvNyUeVHG5R9//BEAevfurVn3tC3S1AIymQwAyD9V+bHukcvlAECpvKC+WL16dX5+/s6dO6dNm3b9+nVnZ2fFSw8ePIiNjY2Li4uLi4uPj6+oqFC+sGfPnq6urm5ubq6urq6url26dFG8VF9ff/v27bi4uKtXr5KaZ+TWRwPav7DIwpPjOB3U69Ix27dvz87OlkgkU6ZMuXHjBtmCBoBx48bl5uYq3mZnZ+f6FHd3d+LqTZBKpcnJyXFPiY+Pf/LkieJVCwuLr776SrO+6UhYehwzSNP6GiypIhQKf/311wkTJkRFRYnF4osXL5I105QpUwoLCxVjkkJwAEDu+xTj2Z07d2pqahSvchzn7OxMLrSwsJg6daqyCtWCurCImPQ4Yul3FqaNqanpyZMnvby8YmJiZs2adeLECaFQuGfPHsUbZDKZ8ph0+/bt6upqZQvK45mXl5fyzKgNFIWlPFQwYdHD2to6MjLSy8srPDx81qxZhw8fTk9Pv3btmmJMqnq2rLSykkaOHElK1/BO+19jtXthAUCfPn2OHj1K0r4LBAJEVH7V0dGRzG5ubm7Dhw8nBbxp87IIq53dEjZn9OjRixYt2r59u0wms7GxcXd3J2OSh4eH8hpLZ7R/YbXjxXsTtmzZsmrVqpKSkr59++q7L7pavOvxrvBlmAoVWFlZUVozqQvF/zRbvL/MUBRWG5kKmbD0AhMWgwrtX1jt8qCw7dP+hcVGLL1AffHO7gpfTtiIxaACExaDCu1fWGzxrhfap7DKysqioqKad4OhMygKi/j9SKVSAHjvvffwaZUfqsjl8p9++qlfv37Tpk0rLy8HJiw9QVFYpFTJlStXyD9YB0RGRg4aNOjtt9/Oz8/v379/SUkJAGRlZQFAfn6+bvrAaECzGAxViI6OJiubXr16nTx5kl5DiJiamioWi8kn6tGjhyLHX3JyMolh6qnPwuUvIxSFhYghISEkVwm0mLNPGwoLCwMDA0l+G0tLS0X+0pycnLlz5xJlcxynSok9Bo/QFRY+zWFEPKlJOlrN0mI1p7a2NiQkhJQbJflLSU09ktfU3Nxc8Xsdp/5hoA6ERSDjChk/unfvrn06WkUCIwDw8fEhOZVJ5kiS15CMkXqsZ/SSoyNhEWJjY0mRNAAYN25cAimPqybR0dGjRo0iRlxcXE6ROtWIN2/eVBh3dXW9fPkyr31nqIdOhYWIcrk8LCyMeGEbGBgEBgaWlpaqeG1mZqYif6mVlZUiSWTzvKaqZ41mUELXwiKQDNtkxd2lS5eQkJCWpUDyjpIkfSYmJkFBQYqE703ymlZUVOjqQzBaQj/CIqSmpk6aNIlMXm5ubjdv3mz+HlKKgsTjknyQJOtVXV0d73lNGTyiT2ERmmTYJnd2Cv744w+ShGj06NGKvHJnz55Vzmuql1zCjJbRv7AQsaqq6rkZtgkbN24klSBRhUJOjDZCmxAWoUmG7Sb1gB49etRCISdGW6MNCYsgkUicnJwUG1EZGRnNCzkV8FsikUGBNicsRKyurl6zZg1JHCoQCBSOCTNmzKBxKMSgAYfPJpBoO2RnZ7/11luXL18GgG7duu3fv3/s2LH67hRDVdqusAgnTpyoqKiYPXs22fRi/F1o68Ji/E1hnuAMKjBhMajAhMWgAhMWgwpMWAwqMGExqMCExaACExaDCkxYDCowYTGowBMdvwsAAAB8SURBVITFoAITFoMKTFgMKjBhMajAhMWgAhMWgwpMWAwqMGExqMCExaACExaDCkxYDCowYTGowITFoAITFoMKTFgMKjBhMajAhMWgAhMWgwpMWAwqMGExqMCExaACExaDCkxYDCowYTGowITFoAITFoMKTFgMKjBhMajw/61iPAteBR3pAAABwHpUWHRyZGtpdFBLTCByZGtpdCAyMDIzLjA5LjIAAHice79v7T0GIOBnQABxIJYC4gZGDgYNIM3MxAahWdgYEoA0ExObA5TvkAGimRkFHKAKoRLsEJoZQyFeBqpedgawBBMjOYZwQDQzMnIzMGowMTIxMDEDRTOYWFgTWNkS2NgzmNg5Ejg4M5g4uRK4uDOYuHkSeHgzmHj5Ehj5FfgFFAQEM5gEhRKEhDOYhEUSREQzmETFFPiYE0QFEvjYEng5EkRYgOazsjDzsbGysrPx8XKwcXJx8wApQSFhEVEBcTlGBgZGeIhWz3GzS5LfuBfECfXRsV9yf5U9iL2KffG+V5WyDiD27D9P9pt1c4HZooqWBwL7vMHsAyltByaXy4DZp29VHniVUQnWu+PthAMqIcf3gc2xiD5gd3vzfhBbwzXmgMYbywMgts1KzgOfLmeB2W7MEftN9lqD2V4Xg/eH124Hq7efwH6gJVobzP5cJ3XgjqQv2PxcA04Hnr0XwOyKJR4O2wIZwWyt35oOdROzwOpN8zMdKtYxQcw/ttihvf4+WPyt1GaH7ebLwG57kTDZoZ0HYmb/1kUO7635wH4RAwCQ0XPFpf8lowAAAjZ6VFh0TU9MIHJka2l0IDIwMjMuMDkuMgAAeJx9VFtuGzEM/PcpdIEIfEv8jO2gKIrYQJP2Dv3P/VFStiMFFbq2iF15xCU5Mz6UvH6ef/z5KJ8XnQ+HUuA/X3cvvxkADq8lb8rx5dv3Szm9Px8fO6frr8v7WyEuZHEmPl+xz+/X18cOlmuBis6uVp6gQjfpcarCuOZRKqfYtcYgcaoyiytscBy4yMPYBXuhKgZqu4SSQKytd1cPIJo0aRugJpBqdzKRwhV7ZMQN0MpbeZJoxpuPV4vkzb/Alhm5OnAg43dvQrp7dS+XzKjkgD7a6s4oG6TfUkYeZs6+BBRp93KEO1SwEWZnDhqV7KB4ax0VXCUPmTlu6UG6zb0L99jPrEFRSGADvVPUqUkcy1qZFbdQuReAHdsYQBTApjuo5qxi6Mg+ht4BsW1LtUBGTmHtGFIyhmbb9pOn4JtjPJlRY6S6LbMHkKqpumpW6WjUt0gfKVNq2TpVCJX67uWUNGl03sboQ6ih5LZF4kCqN+A2REKSSt0gkySp4QgdmYIpb7QDcthSw4xiFi6uRCSwE9PL5fzFzjeDH6+X8zQ45Zo2zg2ebsVYMj2ZH53Oi4di018Sq00XSaw+vSKxfBpCYuEqe8mAuKhbMiAtIpYMyItWJQPKIknJgLoobzRpi8BwhLYoSTJgXyQjGdAXaUgGWiUgGQgXqiUD0UJpPgZjC3dZ3RwqZcWJ+yyH9AaZG3ZryldeVxbz+fEXH/eHv2T9J9f5Fm3JAAABG3pUWHRTTUlMRVMgcmRraXQgMjAyMy4wOS4yAAB4nCVQOW7DQAz8SkoHkAneS8JI5T5+hHo3af34DFdbScPhHHz9PG/PU86/U9+nnfPsLfr9C2yevL4+NyZp68jjzsSVXvh8MOUy9kPIzDuOB4Ym5VKHkifHAiS0qjqBSPoaklK1ph9GUjw6d4d67yX3wr9RswFg6uW6ZZxCm3X8rdrENw1DswMeziF2QS4LNIVEsG87CUY6zDJbescst9okJNcL0eWiW8ss5FqUQhcMsWh5ZXdYg80iC9HBcYvCCdJ4IShK2fgyBSKFDSUjxh9tJLVsSDiFywRgn0QBqzUcXAuHq0GiF3Smr3o6mjjhpFHbnRslQeLynNuqKvS+P/9AE19BM0LoAAAAAABJRU5ErkJggg==\" alt=\"Mol\"/></div></td>\n",
       "    </tr>\n",
       "  </tbody>\n",
       "</table>\n",
       "<p>6816 rows × 6 columns</p>\n",
       "</div>"
      ],
      "text/plain": [
       "     molecule_chembl_id          IC50 units  \\\n",
       "0           CHEMBL63786  3.000000e-03    nM   \n",
       "1           CHEMBL53711  6.000000e-03    nM   \n",
       "2           CHEMBL35820  6.000000e-03    nM   \n",
       "3           CHEMBL53753  8.000000e-03    nM   \n",
       "4           CHEMBL66031  8.000000e-03    nM   \n",
       "...                 ...           ...   ...   \n",
       "6811       CHEMBL261238  5.000000e+06    nM   \n",
       "6812        CHEMBL76587  6.500000e+06    nM   \n",
       "6813       CHEMBL490510  1.900000e+07    nM   \n",
       "6814        CHEMBL45068  2.500000e+07    nM   \n",
       "6815      CHEMBL4798627  5.500000e+07    nM   \n",
       "\n",
       "                                                 smiles      pIC50  \\\n",
       "0                     Brc1cccc(Nc2ncnc3cc4ccccc4cc23)c1  11.522879   \n",
       "1                    CN(C)c1cc2c(Nc3cccc(Br)c3)ncnc2cn1  11.221849   \n",
       "2                   CCOc1cc2ncnc(Nc3cccc(Br)c3)c2cc1OCC  11.221849   \n",
       "3                       CNc1cc2c(Nc3cccc(Br)c3)ncnc2cn1  11.096910   \n",
       "4                   Brc1cccc(Nc2ncnc3cc4[nH]cnc4cc23)c1  11.096910   \n",
       "...                                                 ...        ...   \n",
       "6811  CN(c1cccnc1)c1cc2c(Nc3ccc(F)c(Cl)c3)c(C#N)cnc2cn1   2.301030   \n",
       "6812                              N#CC(C#N)Cc1ccc(O)cc1   2.187087   \n",
       "6813  O=C(/C=C/c1ccc(O)c(O)c1)c1ccc(O[C@@H]2O[C@H](C...   1.721246   \n",
       "6814                  O=C(CCc1ccc(O)cc1)c1c(O)cc(O)cc1O   1.602060   \n",
       "6815                 O=C(Cc1csc2nc3ccccc3n12)Nc1ccccc1O   1.259637   \n",
       "\n",
       "                                                 ROMol  \n",
       "0     <rdkit.Chem.rdchem.Mol object at 0x7f05b3c6b370>  \n",
       "1     <rdkit.Chem.rdchem.Mol object at 0x7f05b3c72b20>  \n",
       "2     <rdkit.Chem.rdchem.Mol object at 0x7f05b3c7dcb0>  \n",
       "3     <rdkit.Chem.rdchem.Mol object at 0x7f05b3c7b920>  \n",
       "4     <rdkit.Chem.rdchem.Mol object at 0x7f05b3c74eb0>  \n",
       "...                                                ...  \n",
       "6811  <rdkit.Chem.rdchem.Mol object at 0x7f05b3c55930>  \n",
       "6812  <rdkit.Chem.rdchem.Mol object at 0x7f05b3df5700>  \n",
       "6813  <rdkit.Chem.rdchem.Mol object at 0x7f05b3c4ca50>  \n",
       "6814  <rdkit.Chem.rdchem.Mol object at 0x7f05b3c4cac0>  \n",
       "6815  <rdkit.Chem.rdchem.Mol object at 0x7f05b3cf0660>  \n",
       "\n",
       "[6816 rows x 6 columns]"
      ]
     },
     "execution_count": 99,
     "metadata": {},
     "output_type": "execute_result"
    }
   ],
   "source": [
    "output_df"
   ]
  },
  {
   "cell_type": "code",
   "execution_count": 100,
   "metadata": {},
   "outputs": [
    {
     "name": "stdout",
     "output_type": "stream",
     "text": [
      "DataFrame shape: (6816, 5)\n"
     ]
    },
    {
     "data": {
      "text/plain": [
       "Index(['molecule_chembl_id', 'IC50', 'units', 'smiles', 'pIC50'], dtype='object')"
      ]
     },
     "execution_count": 100,
     "metadata": {},
     "output_type": "execute_result"
    }
   ],
   "source": [
    "# Prepare saving the dataset: Drop the ROMol column\n",
    "output_df = output_df.drop(\"ROMol\", axis=1)\n",
    "print(f\"DataFrame shape: {output_df.shape}\")\n",
    "output_df.columns"
   ]
  },
  {
   "cell_type": "code",
   "execution_count": 101,
   "metadata": {},
   "outputs": [
    {
     "data": {
      "text/html": [
       "<div>\n",
       "<style scoped>\n",
       "    .dataframe tbody tr th:only-of-type {\n",
       "        vertical-align: middle;\n",
       "    }\n",
       "\n",
       "    .dataframe tbody tr th {\n",
       "        vertical-align: top;\n",
       "    }\n",
       "\n",
       "    .dataframe thead th {\n",
       "        text-align: right;\n",
       "    }\n",
       "</style>\n",
       "<table border=\"1\" class=\"dataframe\">\n",
       "  <thead>\n",
       "    <tr style=\"text-align: right;\">\n",
       "      <th></th>\n",
       "      <th>molecule_chembl_id</th>\n",
       "      <th>IC50</th>\n",
       "      <th>units</th>\n",
       "      <th>smiles</th>\n",
       "      <th>pIC50</th>\n",
       "    </tr>\n",
       "  </thead>\n",
       "  <tbody>\n",
       "    <tr>\n",
       "      <th>0</th>\n",
       "      <td>CHEMBL63786</td>\n",
       "      <td>0.003</td>\n",
       "      <td>nM</td>\n",
       "      <td>Brc1cccc(Nc2ncnc3cc4ccccc4cc23)c1</td>\n",
       "      <td>11.522879</td>\n",
       "    </tr>\n",
       "    <tr>\n",
       "      <th>1</th>\n",
       "      <td>CHEMBL53711</td>\n",
       "      <td>0.006</td>\n",
       "      <td>nM</td>\n",
       "      <td>CN(C)c1cc2c(Nc3cccc(Br)c3)ncnc2cn1</td>\n",
       "      <td>11.221849</td>\n",
       "    </tr>\n",
       "    <tr>\n",
       "      <th>2</th>\n",
       "      <td>CHEMBL35820</td>\n",
       "      <td>0.006</td>\n",
       "      <td>nM</td>\n",
       "      <td>CCOc1cc2ncnc(Nc3cccc(Br)c3)c2cc1OCC</td>\n",
       "      <td>11.221849</td>\n",
       "    </tr>\n",
       "    <tr>\n",
       "      <th>3</th>\n",
       "      <td>CHEMBL53753</td>\n",
       "      <td>0.008</td>\n",
       "      <td>nM</td>\n",
       "      <td>CNc1cc2c(Nc3cccc(Br)c3)ncnc2cn1</td>\n",
       "      <td>11.096910</td>\n",
       "    </tr>\n",
       "    <tr>\n",
       "      <th>4</th>\n",
       "      <td>CHEMBL66031</td>\n",
       "      <td>0.008</td>\n",
       "      <td>nM</td>\n",
       "      <td>Brc1cccc(Nc2ncnc3cc4[nH]cnc4cc23)c1</td>\n",
       "      <td>11.096910</td>\n",
       "    </tr>\n",
       "  </tbody>\n",
       "</table>\n",
       "</div>"
      ],
      "text/plain": [
       "  molecule_chembl_id   IC50 units                               smiles  \\\n",
       "0        CHEMBL63786  0.003    nM    Brc1cccc(Nc2ncnc3cc4ccccc4cc23)c1   \n",
       "1        CHEMBL53711  0.006    nM   CN(C)c1cc2c(Nc3cccc(Br)c3)ncnc2cn1   \n",
       "2        CHEMBL35820  0.006    nM  CCOc1cc2ncnc(Nc3cccc(Br)c3)c2cc1OCC   \n",
       "3        CHEMBL53753  0.008    nM      CNc1cc2c(Nc3cccc(Br)c3)ncnc2cn1   \n",
       "4        CHEMBL66031  0.008    nM  Brc1cccc(Nc2ncnc3cc4[nH]cnc4cc23)c1   \n",
       "\n",
       "       pIC50  \n",
       "0  11.522879  \n",
       "1  11.221849  \n",
       "2  11.221849  \n",
       "3  11.096910  \n",
       "4  11.096910  "
      ]
     },
     "execution_count": 101,
     "metadata": {},
     "output_type": "execute_result"
    }
   ],
   "source": [
    "output_df.to_csv(\"EGFR_compunds.csv\")\n",
    "output_df.head()"
   ]
  },
  {
   "cell_type": "code",
   "execution_count": null,
   "metadata": {},
   "outputs": [],
   "source": []
  }
 ],
 "metadata": {
  "kernelspec": {
   "display_name": "606server_virtual_env_1",
   "language": "python",
   "name": "python3"
  },
  "language_info": {
   "codemirror_mode": {
    "name": "ipython",
    "version": 3
   },
   "file_extension": ".py",
   "mimetype": "text/x-python",
   "name": "python",
   "nbconvert_exporter": "python",
   "pygments_lexer": "ipython3",
   "version": "3.12.0"
  }
 },
 "nbformat": 4,
 "nbformat_minor": 2
}
