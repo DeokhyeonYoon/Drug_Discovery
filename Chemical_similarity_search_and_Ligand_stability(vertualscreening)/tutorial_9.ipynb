{
 "cells": [
  {
   "cell_type": "markdown",
   "metadata": {},
   "source": [
    "# Analyzing molecular dynamics simulation"
   ]
  },
  {
   "cell_type": "code",
   "execution_count": null,
   "metadata": {},
   "outputs": [],
   "source": [
    "from pathlib import Path\n",
    "\n",
    "import pandas as pd\n",
    "import numpy as np\n",
    "import matplotlib.pyplot as plt\n",
    "import nglview as nv\n",
    "import MDAnalysis as mda\n",
    "from MDAnalysis.analysis import rms, diffusionmap, align\n",
    "from MDAnalysis.analysis.distances import dist\n",
    "from MDAnalysis.analysis.hydrogenbonds.hbond_analysis import HydrogenBondAnalysis as HBA"
   ]
  },
  {
   "cell_type": "code",
   "execution_count": null,
   "metadata": {},
   "outputs": [],
   "source": [
    "####  NGL Viewer \n",
    "\n",
    "md_universe = mda.Universe(str(\"topology_2.pdb\"), str(\"trajectory_2.xtc\"))\n",
    "view = nv.show_mdanalysis(md_universe)\n",
    "view"
   ]
  },
  {
   "cell_type": "code",
   "execution_count": null,
   "metadata": {},
   "outputs": [],
   "source": [
    "view.render_image(trim=True, factor=2, transparent=True);"
   ]
  },
  {
   "cell_type": "code",
   "execution_count": null,
   "metadata": {},
   "outputs": [],
   "source": [
    "view._display_image()"
   ]
  },
  {
   "cell_type": "code",
   "execution_count": null,
   "metadata": {},
   "outputs": [],
   "source": [
    "#####  Alignment\n",
    "#####  Set trajectory pointer to first frame as reference\n",
    "md_universe.trajectory[0]\n",
    "\n",
    "# in_memory=True is needed to actually modify the loaded trajectory\n",
    "# if the trajectory is too big for memory, one can write out the aligned trajectory and reload it into a new universe\n",
    "alignment = align.AlignTraj(\n",
    "    mobile=md_universe, reference=md_universe, select=\"protein\", in_memory=True\n",
    ")\n",
    "alignment.run()"
   ]
  },
  {
   "cell_type": "code",
   "execution_count": null,
   "metadata": {},
   "outputs": [],
   "source": [
    "view = nv.show_mdanalysis(md_universe)\n",
    "view"
   ]
  },
  {
   "cell_type": "code",
   "execution_count": null,
   "metadata": {},
   "outputs": [],
   "source": [
    "#####  RMSD of protein and ligand\n",
    "\n",
    "ligand_name = \"03P\""
   ]
  },
  {
   "cell_type": "code",
   "execution_count": null,
   "metadata": {},
   "outputs": [],
   "source": [
    "##### RMSD over time\n",
    "#####  The plot showed the distance at the given time compared to the initial state\n",
    "\n",
    "def rmsd_for_atomgroups(universe, selection1, selection2=None):\n",
    "    \"\"\"Calulate the RMSD for selected atom groups.\n",
    "\n",
    "    Parameters\n",
    "    ----------\n",
    "    universe: MDAnalysis.core.universe.Universe\n",
    "        MDAnalysis universe.\n",
    "    selection1: str\n",
    "        Selection string for main atom group, also used during alignment.\n",
    "    selection2: list of str, optional\n",
    "        Selection strings for additional atom groups.\n",
    "\n",
    "    Returns\n",
    "    -------\n",
    "    rmsd_df: pandas.core.frame.DataFrame\n",
    "        DataFrame containing RMSD of the selected atom groups over time.\n",
    "    \"\"\"\n",
    "\n",
    "    universe.trajectory[0]\n",
    "    ref = universe\n",
    "    rmsd_analysis = rms.RMSD(universe, ref, select=selection1, groupselections=selection2)\n",
    "    rmsd_analysis.run()\n",
    "    columns = [selection1, *selection2] if selection2 else [selection1]\n",
    "    rmsd_df = pd.DataFrame(np.round(rmsd_analysis.results.rmsd[:, 2:], 2), columns=columns)\n",
    "    rmsd_df.index.name = \"frame\"\n",
    "    return rmsd_df"
   ]
  },
  {
   "cell_type": "code",
   "execution_count": null,
   "metadata": {},
   "outputs": [],
   "source": [
    "rmsd = rmsd_for_atomgroups(md_universe, \"backbone\", [\"protein\", f\"resname {ligand_name}\"])\n",
    "rmsd.head()"
   ]
  },
  {
   "cell_type": "code",
   "execution_count": null,
   "metadata": {},
   "outputs": [],
   "source": [
    "####  plot the results\n",
    "\n",
    "rmsd.plot(title=\"RMSD of protein and ligand\")\n",
    "plt.ylabel(\"RMSD (Å)\");"
   ]
  },
  {
   "cell_type": "code",
   "execution_count": null,
   "metadata": {},
   "outputs": [],
   "source": [
    "####  RMSD between frames\n",
    "\n",
    "def RMSD_dist_frames(universe, selection):\n",
    "    \"\"\"Calculate the RMSD between all frames in a matrix.\n",
    "\n",
    "    Parameters\n",
    "    ----------\n",
    "    universe: MDAnalysis.core.universe.Universe\n",
    "        MDAnalysis universe.\n",
    "    selection: str\n",
    "        Selection string for the atomgroup to be investigated, also used during alignment.\n",
    "\n",
    "    Returns\n",
    "    -------\n",
    "    array: np.ndarray\n",
    "        Numpy array of RMSD values.\n",
    "    \"\"\"\n",
    "    pairwise_rmsd = diffusionmap.DistanceMatrix(universe, select=selection)\n",
    "    pairwise_rmsd.run()\n",
    "    return pairwise_rmsd.results.dist_matrix"
   ]
  },
  {
   "cell_type": "code",
   "execution_count": null,
   "metadata": {},
   "outputs": [],
   "source": [
    "dist_matrix_protein = RMSD_dist_frames(md_universe, \"protein\")\n",
    "dist_matrix_ligand = RMSD_dist_frames(md_universe, f\"resname {ligand_name}\")"
   ]
  },
  {
   "cell_type": "code",
   "execution_count": null,
   "metadata": {},
   "outputs": [],
   "source": [
    "# get maximal distance between all frames\n",
    "max_dist = max(np.amax(dist_matrix_ligand), np.amax(dist_matrix_protein))"
   ]
  },
  {
   "cell_type": "code",
   "execution_count": null,
   "metadata": {},
   "outputs": [],
   "source": [
    "ig, ax = plt.subplots(1, 2)\n",
    "fig.suptitle(\"RMSD between the frames\")\n",
    "\n",
    "# protein image\n",
    "img1 = ax[0].imshow(dist_matrix_protein, cmap=\"viridis\", vmin=0, vmax=max_dist)\n",
    "ax[0].title.set_text(\"protein\")\n",
    "ax[0].set_xlabel(\"frames\")\n",
    "ax[0].set_ylabel(\"frames\")\n",
    "\n",
    "# ligand image\n",
    "img2 = ax[1].imshow(dist_matrix_ligand, cmap=\"viridis\", vmin=0, vmax=max_dist)\n",
    "ax[1].title.set_text(\"Ligand\")\n",
    "ax[1].set_xlabel(\"frames\")\n",
    "\n",
    "fig.colorbar(img1, ax=ax, orientation=\"horizontal\", fraction=0.1, label=\"RMSD (Å)\");"
   ]
  },
  {
   "cell_type": "code",
   "execution_count": null,
   "metadata": {},
   "outputs": [],
   "source": [
    "##### Select pocket residues\n",
    "##### All residues in a 5 Å radius around the ligand are shown with atoms and bonds visible\n",
    "\n",
    "pocket_resids = set(\n",
    "    md_universe.select_atoms(f\"(around 5 resname {ligand_name}) and protein\").resids\n",
    ")\n",
    "#print(pocket_resids)\n",
    "view2 = nv.show_mdanalysis(md_universe)\n",
    "view2.add_representation(\n",
    "    \"licorice\", selection=f\"protein and ({' '.join([str(x) for x in pocket_resids])})\"\n",
    ")\n",
    "view2.center(selection=\"ligand\")\n",
    "view2"
   ]
  },
  {
   "cell_type": "code",
   "execution_count": null,
   "metadata": {},
   "outputs": [],
   "source": [
    "##### Atomic distances\n",
    "\n",
    "protein_residue_id = \"793\"\n",
    "protein_atom_name = \"N\"\n",
    "ligand_id = \"1\"\n",
    "ligand_atom_name = \"N4\""
   ]
  },
  {
   "cell_type": "code",
   "execution_count": null,
   "metadata": {},
   "outputs": [],
   "source": [
    "atomgroup_protein = md_universe.select_atoms(\n",
    "    f\"resid {protein_residue_id} and name {protein_atom_name}\"\n",
    ")\n",
    "atomgroup_ligand = md_universe.select_atoms(f\"resname {ligand_name} and name {ligand_atom_name}\")"
   ]
  },
  {
   "cell_type": "code",
   "execution_count": null,
   "metadata": {},
   "outputs": [],
   "source": [
    "distance = dist(atomgroup_protein, atomgroup_ligand)\n",
    "print(\n",
    "    f\"The distance between residues {protein_residue_id} and {ligand_id} is {distance[2][0]:.2f} Å\"\n",
    ")"
   ]
  },
  {
   "cell_type": "code",
   "execution_count": null,
   "metadata": {},
   "outputs": [],
   "source": [
    "distances = []\n",
    "for _ in md_universe.trajectory:\n",
    "    distance = dist(atomgroup_protein, atomgroup_ligand)\n",
    "    distances.append(distance[2][0])"
   ]
  },
  {
   "cell_type": "code",
   "execution_count": null,
   "metadata": {},
   "outputs": [],
   "source": [
    "plt.figure(figsize=(10, 6))\n",
    "plt.plot(distances)\n",
    "plt.gca().set_ylim(bottom=0)\n",
    "plt.ylabel(\"distance (Å)\")\n",
    "plt.xlabel(\"frame\")\n",
    "plt.title(f\"Atomic distance between atoms of residues {protein_residue_id} and {ligand_id}\")\n",
    "plt.show()"
   ]
  },
  {
   "cell_type": "code",
   "execution_count": null,
   "metadata": {},
   "outputs": [],
   "source": [
    "#####  Hydrogen bond analysis\n",
    "\n",
    "hydrogen_name = \"H\""
   ]
  },
  {
   "cell_type": "code",
   "execution_count": null,
   "metadata": {},
   "outputs": [],
   "source": [
    "def run_hydrogenbond_analysis(\n",
    "    universe,\n",
    "    donor_resid,\n",
    "    donor_atom,\n",
    "    hydrogen_atom,\n",
    "    acceptor_resid,\n",
    "    acceptor_atom,\n",
    "    h_cutoff=1.2,\n",
    "    a_cutoff=3.0,\n",
    "    angle_cutoff=120,\n",
    "):\n",
    "    \"\"\"\n",
    "    Perform an hydrogen bond analysis between selcted atom groups.\n",
    "    Return the data as readable, formatted data frame.\n",
    "\n",
    "    Parameters\n",
    "    ----------\n",
    "    universe: MDAnalysis.core.universe.Universe\n",
    "        MDAnalysis universe.\n",
    "    donor_resid: str\n",
    "        Residue Id of residue containing donor atom in MDAnalysis universe.\n",
    "    donor_atom: str\n",
    "        Name of the donor atom in the MDAnalysis universe.\n",
    "    hydrogen_atom: str\n",
    "        Name of involved hydrogen atom in the MDAnalysis universe.\n",
    "    acceptor_resid: str\n",
    "        Residue Id of residue containing acceptor atom in the MDAnalysis universe.\n",
    "    acceptor_atom: str\n",
    "        Name of the acceptor atom in the MDAnalysis universe.\n",
    "    h_cutoff: float, optional\n",
    "        Distance cutoff used for finding donor-hydrogen pairs.\n",
    "    a_cutoff: float, optional\n",
    "        Donor-acceptor distance cutoff for hydrogen bonds.\n",
    "    angle_cutoff: int, optional\n",
    "        D-H-A angle cutoff for hydrogen bonds.\n",
    "\n",
    "    Returns\n",
    "    -------\n",
    "    bond : pandas.core.frame.DataFrame\n",
    "        DataFrame containing hydrogen bond information over time.\n",
    "    \"\"\"\n",
    "\n",
    "    # set up and run the hydrogen bond analysis (HBA)\n",
    "    hbonds = HBA(\n",
    "        universe=universe,\n",
    "        donors_sel=\"resid \" + donor_resid + \" and name \" + donor_atom,\n",
    "        hydrogens_sel=\"resid \" + donor_resid + \" and name \" + hydrogen_atom,\n",
    "        acceptors_sel=\"resid \" + acceptor_resid + \" and name \" + acceptor_atom,\n",
    "        d_h_cutoff=h_cutoff,\n",
    "        d_a_cutoff=a_cutoff,\n",
    "        d_h_a_angle_cutoff=angle_cutoff,\n",
    "    )\n",
    "    hbonds.run()\n",
    "    # extract bond data\n",
    "    bond = pd.DataFrame(np.round(hbonds.results.hbonds, 2))\n",
    "    # name columns (according to MDAnalysis function description)\n",
    "    bond.columns = [\n",
    "        \"frame\",\n",
    "        \"donor_index\",\n",
    "        \"hydrogen_index\",\n",
    "        \"acceptor_index\",\n",
    "        \"distance\",\n",
    "        \"angle\",\n",
    "    ]\n",
    "    # set frame as the index\n",
    "    bond[\"frame\"] = bond[\"frame\"].astype(int)\n",
    "    bond.set_index(\"frame\", inplace=True, drop=True)\n",
    "    return bond"
   ]
  },
  {
   "cell_type": "code",
   "execution_count": null,
   "metadata": {},
   "outputs": [],
   "source": [
    "bond = run_hydrogenbond_analysis(\n",
    "    md_universe, protein_residue_id, protein_atom_name, hydrogen_name, ligand_id, ligand_atom_name\n",
    ")\n",
    "bond.head()"
   ]
  },
  {
   "cell_type": "code",
   "execution_count": null,
   "metadata": {},
   "outputs": [],
   "source": [
    "#####  Hydrogen bond analysis\n",
    "#####  Try the analysis again with a higher distance cutoff of 5Å for the donor and acceptor distance\n",
    "\n",
    "bond = run_hydrogenbond_analysis(\n",
    "    md_universe,\n",
    "    protein_residue_id,\n",
    "    protein_atom_name,\n",
    "    hydrogen_name,\n",
    "    ligand_id,\n",
    "    ligand_atom_name,\n",
    "    # This \n",
    "    a_cutoff=5.0,\n",
    ")\n",
    "bond.head()"
   ]
  },
  {
   "cell_type": "code",
   "execution_count": null,
   "metadata": {},
   "outputs": [],
   "source": [
    "def plot_hydrogen_bond_over_time(bond):\n",
    "    \"\"\"\n",
    "    Plot the distance and degree of a chosen hydrogen bond over time.\n",
    "    Peaks in angle and dips in distance represent moments of strong binding.\n",
    "\n",
    "    Parameters\n",
    "    ----------\n",
    "    bond: pandas.core.frame.DataFrame\n",
    "        Hydrogen bond analysis data frame with named columns.\n",
    "    \"\"\"\n",
    "\n",
    "    donor_index = bond.iloc[0].donor_index\n",
    "    acceptor_index = bond.iloc[0].acceptor_index\n",
    "\n",
    "    # add values for missing frames for gapless plotting\n",
    "    bond = bond.reindex(np.arange(0, 99))\n",
    "\n",
    "    # plot the data\n",
    "    fig = plt.figure(figsize=(10, 6))\n",
    "    distance = bond.distance.plot(\n",
    "        title=f\"H-Bond between donor {donor_index} and acceptor {acceptor_index}\",\n",
    "        style=\"o-\",\n",
    "        x=\"frame\",\n",
    "    )\n",
    "    distance.set_ylabel(\"distance (Å)\")\n",
    "    distance.set_xlabel(\"frame\")\n",
    "    distance.set_ylim(bottom=0)\n",
    "    angle = bond.angle.plot(secondary_y=True, style=\"o-\", x=\"frame\")\n",
    "    angle.set_ylabel(\"angle (°)\")\n",
    "    angle.set_xlabel(\"frame\")\n",
    "    angle.set_ylim(bottom=0)\n",
    "    fig.legend(loc=\"lower right\", bbox_to_anchor=(1, 0), bbox_transform=distance.transAxes)\n",
    "    plt.show()"
   ]
  },
  {
   "cell_type": "code",
   "execution_count": null,
   "metadata": {},
   "outputs": [],
   "source": [
    "plot_hydrogen_bond_over_time(bond)"
   ]
  },
  {
   "cell_type": "code",
   "execution_count": null,
   "metadata": {},
   "outputs": [],
   "source": []
  }
 ],
 "metadata": {
  "language_info": {
   "name": "python"
  }
 },
 "nbformat": 4,
 "nbformat_minor": 2
}
