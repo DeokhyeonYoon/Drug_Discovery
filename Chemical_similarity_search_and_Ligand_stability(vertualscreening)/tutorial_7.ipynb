{
 "cells": [
  {
   "cell_type": "markdown",
   "metadata": {},
   "source": [
    "# Protein ligand docking"
   ]
  },
  {
   "cell_type": "code",
   "execution_count": 1,
   "metadata": {},
   "outputs": [
    {
     "ename": "ModuleNotFoundError",
     "evalue": "No module named 'ipython_genutils'",
     "output_type": "error",
     "traceback": [
      "\u001b[0;31m---------------------------------------------------------------------------\u001b[0m",
      "\u001b[0;31mModuleNotFoundError\u001b[0m                       Traceback (most recent call last)",
      "Cell \u001b[0;32mIn[1], line 6\u001b[0m\n\u001b[1;32m      3\u001b[0m \u001b[38;5;28;01mfrom\u001b[39;00m \u001b[38;5;21;01mpathlib\u001b[39;00m \u001b[38;5;28;01mimport\u001b[39;00m Path\n\u001b[1;32m      4\u001b[0m \u001b[38;5;28;01mimport\u001b[39;00m \u001b[38;5;21;01msubprocess\u001b[39;00m\n\u001b[0;32m----> 6\u001b[0m \u001b[38;5;28;01mimport\u001b[39;00m \u001b[38;5;21;01mnglview\u001b[39;00m \u001b[38;5;28;01mas\u001b[39;00m \u001b[38;5;21;01mnv\u001b[39;00m\n\u001b[1;32m      7\u001b[0m \u001b[38;5;28;01mfrom\u001b[39;00m \u001b[38;5;21;01mopenbabel\u001b[39;00m \u001b[38;5;28;01mimport\u001b[39;00m pybel\n\u001b[1;32m      9\u001b[0m \u001b[38;5;28;01mfrom\u001b[39;00m \u001b[38;5;21;01mcadd\u001b[39;00m\u001b[38;5;21;01m.\u001b[39;00m\u001b[38;5;21;01mstructure\u001b[39;00m\u001b[38;5;21;01m.\u001b[39;00m\u001b[38;5;21;01mcore\u001b[39;00m \u001b[38;5;28;01mimport\u001b[39;00m Structure\n",
      "File \u001b[0;32m~/miniconda3/envs/606server_virtual_env_1/lib/python3.12/site-packages/nglview/__init__.py:4\u001b[0m\n\u001b[1;32m      1\u001b[0m \u001b[38;5;28;01mimport\u001b[39;00m \u001b[38;5;21;01mwarnings\u001b[39;00m\n\u001b[1;32m      3\u001b[0m \u001b[38;5;66;03m# for doc\u001b[39;00m\n\u001b[0;32m----> 4\u001b[0m \u001b[38;5;28;01mfrom\u001b[39;00m \u001b[38;5;21;01m.\u001b[39;00m \u001b[38;5;28;01mimport\u001b[39;00m adaptor, datafiles, show, widget\n\u001b[1;32m      5\u001b[0m \u001b[38;5;28;01mfrom\u001b[39;00m \u001b[38;5;21;01m.\u001b[39;00m\u001b[38;5;21;01m_version\u001b[39;00m \u001b[38;5;28;01mimport\u001b[39;00m get_versions\n\u001b[1;32m      6\u001b[0m \u001b[38;5;28;01mfrom\u001b[39;00m \u001b[38;5;21;01m.\u001b[39;00m\u001b[38;5;21;01madaptor\u001b[39;00m \u001b[38;5;28;01mimport\u001b[39;00m \u001b[38;5;241m*\u001b[39m\n",
      "File \u001b[0;32m~/miniconda3/envs/606server_virtual_env_1/lib/python3.12/site-packages/nglview/show.py:13\u001b[0m\n\u001b[1;32m      3\u001b[0m \u001b[38;5;28;01mfrom\u001b[39;00m \u001b[38;5;21;01m.\u001b[39;00m \u001b[38;5;28;01mimport\u001b[39;00m datafiles\n\u001b[1;32m      4\u001b[0m \u001b[38;5;28;01mfrom\u001b[39;00m \u001b[38;5;21;01m.\u001b[39;00m\u001b[38;5;21;01madaptor\u001b[39;00m \u001b[38;5;28;01mimport\u001b[39;00m (ASEStructure, ASETrajectory, BiopythonStructure,\n\u001b[1;32m      5\u001b[0m                       FileStructure, HTMDTrajectory, IODataStructure,\n\u001b[1;32m      6\u001b[0m                       IOTBXStructure, MDAnalysisTrajectory, MDTrajTrajectory,\n\u001b[0;32m   (...)\u001b[0m\n\u001b[1;32m     11\u001b[0m                       RdkitStructure,\n\u001b[1;32m     12\u001b[0m                       TextStructure)\n\u001b[0;32m---> 13\u001b[0m \u001b[38;5;28;01mfrom\u001b[39;00m \u001b[38;5;21;01m.\u001b[39;00m\u001b[38;5;21;01mwidget\u001b[39;00m \u001b[38;5;28;01mimport\u001b[39;00m NGLWidget\n\u001b[1;32m     15\u001b[0m __all__ \u001b[38;5;241m=\u001b[39m [\n\u001b[1;32m     16\u001b[0m     \u001b[38;5;124m'\u001b[39m\u001b[38;5;124mdemo\u001b[39m\u001b[38;5;124m'\u001b[39m,\n\u001b[1;32m     17\u001b[0m     \u001b[38;5;124m'\u001b[39m\u001b[38;5;124mshow_pdbid\u001b[39m\u001b[38;5;124m'\u001b[39m,\n\u001b[0;32m   (...)\u001b[0m\n\u001b[1;32m     40\u001b[0m     \u001b[38;5;124m'\u001b[39m\u001b[38;5;124mshow_biopython\u001b[39m\u001b[38;5;124m'\u001b[39m,\n\u001b[1;32m     41\u001b[0m ]\n\u001b[1;32m     44\u001b[0m \u001b[38;5;28;01mdef\u001b[39;00m \u001b[38;5;21mshow_pdbid\u001b[39m(pdbid, \u001b[38;5;241m*\u001b[39m\u001b[38;5;241m*\u001b[39mkwargs):\n",
      "File \u001b[0;32m~/miniconda3/envs/606server_virtual_env_1/lib/python3.12/site-packages/nglview/widget.py:8\u001b[0m\n\u001b[1;32m      5\u001b[0m \u001b[38;5;28;01mimport\u001b[39;00m \u001b[38;5;21;01muuid\u001b[39;00m\n\u001b[1;32m      6\u001b[0m \u001b[38;5;28;01mfrom\u001b[39;00m \u001b[38;5;21;01mlogging\u001b[39;00m \u001b[38;5;28;01mimport\u001b[39;00m getLogger\n\u001b[0;32m----> 8\u001b[0m \u001b[38;5;28;01mimport\u001b[39;00m \u001b[38;5;21;01mipywidgets\u001b[39;00m \u001b[38;5;28;01mas\u001b[39;00m \u001b[38;5;21;01mwidgets\u001b[39;00m\n\u001b[1;32m      9\u001b[0m \u001b[38;5;28;01mimport\u001b[39;00m \u001b[38;5;21;01mipywidgets\u001b[39;00m\u001b[38;5;21;01m.\u001b[39;00m\u001b[38;5;21;01membed\u001b[39;00m\n\u001b[1;32m     10\u001b[0m \u001b[38;5;28;01mimport\u001b[39;00m \u001b[38;5;21;01mnumpy\u001b[39;00m \u001b[38;5;28;01mas\u001b[39;00m \u001b[38;5;21;01mnp\u001b[39;00m\n",
      "File \u001b[0;32m~/miniconda3/envs/606server_virtual_env_1/lib/python3.12/site-packages/ipywidgets/__init__.py:25\u001b[0m\n\u001b[1;32m     23\u001b[0m \u001b[38;5;28;01mfrom\u001b[39;00m \u001b[38;5;21;01mIPython\u001b[39;00m \u001b[38;5;28;01mimport\u001b[39;00m get_ipython\n\u001b[1;32m     24\u001b[0m \u001b[38;5;28;01mfrom\u001b[39;00m \u001b[38;5;21;01m.\u001b[39;00m\u001b[38;5;21;01m_version\u001b[39;00m \u001b[38;5;28;01mimport\u001b[39;00m version_info, __version__, __protocol_version__, __jupyter_widgets_controls_version__, __jupyter_widgets_base_version__\n\u001b[0;32m---> 25\u001b[0m \u001b[38;5;28;01mfrom\u001b[39;00m \u001b[38;5;21;01m.\u001b[39;00m\u001b[38;5;21;01mwidgets\u001b[39;00m \u001b[38;5;28;01mimport\u001b[39;00m \u001b[38;5;241m*\u001b[39m\n\u001b[1;32m     26\u001b[0m \u001b[38;5;28;01mfrom\u001b[39;00m \u001b[38;5;21;01mtraitlets\u001b[39;00m \u001b[38;5;28;01mimport\u001b[39;00m link, dlink\n\u001b[1;32m     29\u001b[0m \u001b[38;5;28;01mdef\u001b[39;00m \u001b[38;5;21mload_ipython_extension\u001b[39m(ip):\n",
      "File \u001b[0;32m~/miniconda3/envs/606server_virtual_env_1/lib/python3.12/site-packages/ipywidgets/widgets/__init__.py:4\u001b[0m\n\u001b[1;32m      1\u001b[0m \u001b[38;5;66;03m# Copyright (c) Jupyter Development Team.\u001b[39;00m\n\u001b[1;32m      2\u001b[0m \u001b[38;5;66;03m# Distributed under the terms of the Modified BSD License.\u001b[39;00m\n\u001b[0;32m----> 4\u001b[0m \u001b[38;5;28;01mfrom\u001b[39;00m \u001b[38;5;21;01m.\u001b[39;00m\u001b[38;5;21;01mwidget\u001b[39;00m \u001b[38;5;28;01mimport\u001b[39;00m Widget, CallbackDispatcher, register, widget_serialization\n\u001b[1;32m      5\u001b[0m \u001b[38;5;28;01mfrom\u001b[39;00m \u001b[38;5;21;01m.\u001b[39;00m\u001b[38;5;21;01mdomwidget\u001b[39;00m \u001b[38;5;28;01mimport\u001b[39;00m DOMWidget\n\u001b[1;32m      6\u001b[0m \u001b[38;5;28;01mfrom\u001b[39;00m \u001b[38;5;21;01m.\u001b[39;00m\u001b[38;5;21;01mvaluewidget\u001b[39;00m \u001b[38;5;28;01mimport\u001b[39;00m ValueWidget\n",
      "File \u001b[0;32m~/miniconda3/envs/606server_virtual_env_1/lib/python3.12/site-packages/ipywidgets/widgets/widget.py:22\u001b[0m\n\u001b[1;32m     18\u001b[0m \u001b[38;5;28;01mfrom\u001b[39;00m \u001b[38;5;21;01mipykernel\u001b[39;00m\u001b[38;5;21;01m.\u001b[39;00m\u001b[38;5;21;01mcomm\u001b[39;00m \u001b[38;5;28;01mimport\u001b[39;00m Comm\n\u001b[1;32m     19\u001b[0m \u001b[38;5;28;01mfrom\u001b[39;00m \u001b[38;5;21;01mtraitlets\u001b[39;00m \u001b[38;5;28;01mimport\u001b[39;00m (\n\u001b[1;32m     20\u001b[0m     HasTraits, Unicode, Dict, Instance, List, Int, Set, Bytes, observe, default, Container,\n\u001b[1;32m     21\u001b[0m     Undefined)\n\u001b[0;32m---> 22\u001b[0m \u001b[38;5;28;01mfrom\u001b[39;00m \u001b[38;5;21;01mipython_genutils\u001b[39;00m\u001b[38;5;21;01m.\u001b[39;00m\u001b[38;5;21;01mpy3compat\u001b[39;00m \u001b[38;5;28;01mimport\u001b[39;00m string_types, PY3\n\u001b[1;32m     23\u001b[0m \u001b[38;5;28;01mfrom\u001b[39;00m \u001b[38;5;21;01mIPython\u001b[39;00m\u001b[38;5;21;01m.\u001b[39;00m\u001b[38;5;21;01mdisplay\u001b[39;00m \u001b[38;5;28;01mimport\u001b[39;00m display\n\u001b[1;32m     24\u001b[0m \u001b[38;5;28;01mfrom\u001b[39;00m \u001b[38;5;21;01mjson\u001b[39;00m \u001b[38;5;28;01mimport\u001b[39;00m loads \u001b[38;5;28;01mas\u001b[39;00m jsonloads, dumps \u001b[38;5;28;01mas\u001b[39;00m jsondumps\n",
      "\u001b[0;31mModuleNotFoundError\u001b[0m: No module named 'ipython_genutils'"
     ]
    }
   ],
   "source": [
    "# import libraries\n",
    "import warnings\n",
    "from pathlib import Path\n",
    "import subprocess\n",
    "\n",
    "import nglview as nv\n",
    "from openbabel import pybel\n",
    "\n",
    "from cadd.structure.core import Structure"
   ]
  },
  {
   "cell_type": "code",
   "execution_count": null,
   "metadata": {},
   "outputs": [],
   "source": [
    "# filter warnings\n",
    "warnings.filterwarnings(\"ignore\")\n",
    "ob_log_handler = pybel.ob.OBMessageHandler()\n",
    "pybel.ob.obErrorLog.SetOutputLevel(0)"
   ]
  },
  {
   "cell_type": "code",
   "execution_count": null,
   "metadata": {},
   "outputs": [],
   "source": [
    "#### retrieve structure from the Protein Data Bank\n",
    "####  2ITO: a protein-ligand complex of EGFR\n",
    "pdb_id = \"2ito\"\n",
    "structure = Structure.from_pdbid(pdb_id)\n",
    "# element information maybe missing, but important for subsequent PDBQT conversion\n",
    "if not hasattr(structure.atoms, \"elements\"):\n",
    "    structure.add_TopologyAttr(\"elements\", structure.atoms.types)\n",
    "structure"
   ]
  },
  {
   "cell_type": "code",
   "execution_count": null,
   "metadata": {},
   "outputs": [],
   "source": [
    "##### 1.Prepare protein #####\n",
    "\n",
    "####  write the protein file to disk\n",
    "protein = structure.select_atoms(\"protein\")\n",
    "protein.write(\"./data/protein.pdb\")"
   ]
  },
  {
   "cell_type": "code",
   "execution_count": null,
   "metadata": {},
   "outputs": [],
   "source": [
    "def pdb_to_pdbqt(pdb_path, pdbqt_path, pH=7.4):\n",
    "    \"\"\"\n",
    "    Convert a PDB file to a PDBQT file needed by docking programs of the AutoDock family.\n",
    "\n",
    "    Parameters\n",
    "    ----------\n",
    "    pdb_path: str or pathlib.Path\n",
    "        Path to input PDB file.\n",
    "    pdbqt_path: str or pathlib.path\n",
    "        Path to output PDBQT file.\n",
    "    pH: float\n",
    "        Protonation at given pH.\n",
    "    \"\"\"\n",
    "    molecule = list(pybel.readfile(\"pdb\", str(pdb_path)))[0]\n",
    "    # add hydrogens at given pH\n",
    "    molecule.OBMol.CorrectForPH(pH)\n",
    "    molecule.addh()\n",
    "    # add partial charges to each atom\n",
    "    for atom in molecule.atoms:\n",
    "        atom.OBAtom.GetPartialCharge()\n",
    "    molecule.write(\"pdbqt\", str(pdbqt_path), overwrite=True)\n",
    "    return"
   ]
  },
  {
   "cell_type": "code",
   "execution_count": null,
   "metadata": {},
   "outputs": [],
   "source": [
    "####  Convert protein to PDBQT format\n",
    "pdb_to_pdbqt(\"protein.pdb\", \"protein.pdbqt\")"
   ]
  },
  {
   "cell_type": "code",
   "execution_count": null,
   "metadata": {},
   "outputs": [],
   "source": [
    "##### 2.Prepare ligand  ######\n",
    "\n",
    "# define ligand SMILES for protein-ligand complex of interest\n",
    "smiles = \"COC1=C(C=C2C(=C1)N=CN=C2NC3=CC(=C(C=C3)F)Cl)OCCCN4CCOCC4\""
   ]
  },
  {
   "cell_type": "code",
   "execution_count": null,
   "metadata": {},
   "outputs": [],
   "source": [
    "def smiles_to_pdbqt(smiles, pdbqt_path, pH=7.4):\n",
    "    \"\"\"\n",
    "    Convert a SMILES string to a PDBQT file needed by docking programs of the AutoDock family.\n",
    "\n",
    "    Parameters\n",
    "    ----------\n",
    "    smiles: str\n",
    "        SMILES string.\n",
    "    pdbqt_path: str or pathlib.path\n",
    "        Path to output PDBQT file.\n",
    "    pH: float\n",
    "        Protonation at given pH.\n",
    "    \"\"\"\n",
    "    molecule = pybel.readstring(\"smi\", smiles)\n",
    "    # add hydrogens at given pH\n",
    "    molecule.OBMol.CorrectForPH(pH)\n",
    "    molecule.addh()\n",
    "    # generate 3D coordinates\n",
    "    molecule.make3D(forcefield=\"mmff94s\", steps=10000)\n",
    "    # add partial charges to each atom\n",
    "    for atom in molecule.atoms:\n",
    "        atom.OBAtom.GetPartialCharge()\n",
    "    molecule.write(\"pdbqt\", str(pdbqt_path), overwrite=True)\n",
    "    return"
   ]
  },
  {
   "cell_type": "code",
   "execution_count": null,
   "metadata": {},
   "outputs": [],
   "source": [
    "# convert the ligand into PDBQT format\n",
    "smiles_to_pdbqt(\"ligand.pdbqt\")"
   ]
  },
  {
   "cell_type": "code",
   "execution_count": null,
   "metadata": {},
   "outputs": [],
   "source": [
    "#### 3.Binding site definition ####\n",
    "#### Pocket_Center, Pocket_Size\n",
    "\n",
    "ligand_resname = \"IRE\"\n",
    "ligand = structure.select_atoms(f\"resname {ligand_resname}\")\n",
    "pocket_center = (ligand.positions.max(axis=0) + ligand.positions.min(axis=0)) / 2\n",
    "pocket_size = ligand.positions.max(axis=0) - ligand.positions.min(axis=0) + 5\n",
    "print(pocket_center, pocket_size)"
   ]
  },
  {
   "cell_type": "code",
   "execution_count": null,
   "metadata": {},
   "outputs": [],
   "source": [
    "#### 4.Docking calculation ####\n",
    "#### conda install -c conda-forge smina\n",
    "\n",
    "def run_smina(\n",
    "    ligand_path, protein_path, out_path, pocket_center, pocket_size, num_poses=10, exhaustiveness=8\n",
    "):\n",
    "    \"\"\"\n",
    "    Perform docking with Smina.\n",
    "\n",
    "    Parameters\n",
    "    ----------\n",
    "    ligand_path: str or pathlib.Path\n",
    "        Path to ligand PDBQT file that should be docked.\n",
    "    protein_path: str or pathlib.Path\n",
    "        Path to protein PDBQT file that should be docked to.\n",
    "    out_path: str or pathlib.Path\n",
    "        Path to which docking poses should be saved, SDF or PDB format.\n",
    "    pocket_center: iterable of float or int\n",
    "        Coordinates defining the center of the binding site.\n",
    "    pocket_size: iterable of float or int\n",
    "        Lengths of edges defining the binding site.\n",
    "    num_poses: int\n",
    "        Maximum number of poses to generate.\n",
    "    exhaustiveness: int\n",
    "        Accuracy of docking calculations.\n",
    "\n",
    "    Returns\n",
    "    -------\n",
    "    output_text: str\n",
    "        The output of the Smina calculation.\n",
    "    \"\"\"\n",
    "    output_text = subprocess.check_output(\n",
    "        [\n",
    "            # In Max   #########\n",
    "            \"./smina.osx.12\",\n",
    "\n",
    "            # In Linux #########\n",
    "            #\"./smina.linux\",\n",
    "            \n",
    "            \"--ligand\",\n",
    "            str(ligand_path),\n",
    "            \"--receptor\",\n",
    "            str(protein_path),\n",
    "            \"--out\",\n",
    "            str(out_path),\n",
    "            \"--center_x\",\n",
    "            str(pocket_center[0]),\n",
    "            \"--center_y\",\n",
    "            str(pocket_center[1]),\n",
    "            \"--center_z\",\n",
    "            str(pocket_center[2]),\n",
    "            \"--size_x\",\n",
    "            str(pocket_size[0]),\n",
    "            \"--size_y\",\n",
    "            str(pocket_size[1]),\n",
    "            \"--size_z\",\n",
    "            str(pocket_size[2]),\n",
    "            \"--num_modes\",\n",
    "            str(num_poses),\n",
    "            \"--exhaustiveness\",\n",
    "            str(exhaustiveness),\n",
    "        ],\n",
    "        universal_newlines=True,  # needed to capture output text\n",
    "    )\n",
    "    return output_text"
   ]
  },
  {
   "cell_type": "code",
   "execution_count": null,
   "metadata": {},
   "outputs": [],
   "source": [
    "####  About Output\n",
    "####  RMSD upper bound matches each atom in one conformation with itself in the other conformation, ignoring any symmetry. \n",
    "####  RMSD lower bound matches each atom in one conformation with the closest atom of the same element type in the other conformation.\n",
    "\n",
    "output_text = run_smina(\n",
    "    \"ligand.pdbqt\",\n",
    "    \"protein.pdbqt\",\n",
    "    \"docking_poses.sdf\",\n",
    "    pocket_center,\n",
    "    pocket_size,\n",
    ")\n",
    "print(output_text)"
   ]
  },
  {
   "cell_type": "code",
   "execution_count": null,
   "metadata": {},
   "outputs": [],
   "source": [
    "def split_sdf_file(sdf_path):\n",
    "    \"\"\"\n",
    "    Split an SDF file into seperate files for each molecule.\n",
    "    Each file is named with consecutive numbers.\n",
    "\n",
    "    Parameters\n",
    "    ----------\n",
    "    sdf_path: str or pathlib.Path\n",
    "        Path to SDF file that should be split.\n",
    "    \"\"\"\n",
    "    sdf_path = Path(sdf_path)\n",
    "    stem = sdf_path.stem\n",
    "    parent = sdf_path.parent\n",
    "    molecules = pybel.readfile(\"sdf\", str(sdf_path))\n",
    "    for i, molecule in enumerate(molecules, 1):\n",
    "        molecule.write(\"sdf\", str(parent / f\"{stem}_{i}.sdf\"), overwrite=True)\n",
    "    return"
   ]
  },
  {
   "cell_type": "code",
   "execution_count": null,
   "metadata": {},
   "outputs": [],
   "source": [
    "split_sdf_file(\"docking_poses.sdf\")"
   ]
  },
  {
   "cell_type": "code",
   "execution_count": null,
   "metadata": {},
   "outputs": [],
   "source": [
    "docking_pose_id = 2\n",
    "view = nv.show_structure_file(\n",
    "    str(DATA / f\"docking_poses_{docking_pose_id}.sdf\"),\n",
    "    representations=[{\"params\": {}, \"type\": \"licorice\"}],\n",
    ")\n",
    "view.add_pdbid(pdb_id)\n",
    "view"
   ]
  }
 ],
 "metadata": {
  "kernelspec": {
   "display_name": "606server_virtual_env_1",
   "language": "python",
   "name": "python3"
  },
  "language_info": {
   "codemirror_mode": {
    "name": "ipython",
    "version": 3
   },
   "file_extension": ".py",
   "mimetype": "text/x-python",
   "name": "python",
   "nbconvert_exporter": "python",
   "pygments_lexer": "ipython3",
   "version": "3.12.1"
  }
 },
 "nbformat": 4,
 "nbformat_minor": 2
}
